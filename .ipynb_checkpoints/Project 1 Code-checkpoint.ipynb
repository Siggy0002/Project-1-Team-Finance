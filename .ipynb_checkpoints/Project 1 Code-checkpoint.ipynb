{
 "cells": [
  {
   "cell_type": "code",
   "execution_count": 3,
   "id": "2f5e3437-1bfc-463e-beaf-6afab062a596",
   "metadata": {},
   "outputs": [],
   "source": [
    "# Dependencies and Setup\n",
    "import pandas as pd\n",
    "import numpy as np\n",
    "import matplotlib.pyplot as plt\n",
    "import seaborn as sns\n",
    "import scipy.stats as stats\n",
    "from scipy.stats import linregress\n",
    "import warnings\n",
    "warnings.filterwarnings('ignore')"
   ]
  },
  {
   "cell_type": "markdown",
   "id": "4a2543fb-3838-4191-9935-10dec6b837ad",
   "metadata": {},
   "source": [
    "# Data Exploration \n",
    "***"
   ]
  },
  {
   "cell_type": "code",
   "execution_count": 4,
   "id": "5dd4dca7-154f-493c-849a-cadb42586393",
   "metadata": {},
   "outputs": [],
   "source": [
    "# \n",
    "df=pd.read_csv('resources/customer_data.csv')\n"
   ]
  },
  {
   "cell_type": "code",
   "execution_count": 5,
   "id": "48bced09-5549-40d4-876e-f8ab17528c56",
   "metadata": {},
   "outputs": [
    {
     "data": {
      "text/html": [
       "<div>\n",
       "<style scoped>\n",
       "    .dataframe tbody tr th:only-of-type {\n",
       "        vertical-align: middle;\n",
       "    }\n",
       "\n",
       "    .dataframe tbody tr th {\n",
       "        vertical-align: top;\n",
       "    }\n",
       "\n",
       "    .dataframe thead th {\n",
       "        text-align: right;\n",
       "    }\n",
       "</style>\n",
       "<table border=\"1\" class=\"dataframe\">\n",
       "  <thead>\n",
       "    <tr style=\"text-align: right;\">\n",
       "      <th></th>\n",
       "      <th>id</th>\n",
       "      <th>age</th>\n",
       "      <th>gender</th>\n",
       "      <th>income</th>\n",
       "      <th>education</th>\n",
       "      <th>region</th>\n",
       "      <th>loyalty_status</th>\n",
       "      <th>purchase_frequency</th>\n",
       "      <th>purchase_amount</th>\n",
       "      <th>product_category</th>\n",
       "      <th>promotion_usage</th>\n",
       "      <th>satisfaction_score</th>\n",
       "    </tr>\n",
       "  </thead>\n",
       "  <tbody>\n",
       "    <tr>\n",
       "      <th>0</th>\n",
       "      <td>1</td>\n",
       "      <td>27</td>\n",
       "      <td>Male</td>\n",
       "      <td>40682</td>\n",
       "      <td>Bachelor</td>\n",
       "      <td>East</td>\n",
       "      <td>Gold</td>\n",
       "      <td>frequent</td>\n",
       "      <td>18249</td>\n",
       "      <td>Books</td>\n",
       "      <td>0</td>\n",
       "      <td>6</td>\n",
       "    </tr>\n",
       "    <tr>\n",
       "      <th>1</th>\n",
       "      <td>2</td>\n",
       "      <td>29</td>\n",
       "      <td>Male</td>\n",
       "      <td>15317</td>\n",
       "      <td>Masters</td>\n",
       "      <td>West</td>\n",
       "      <td>Regular</td>\n",
       "      <td>rare</td>\n",
       "      <td>4557</td>\n",
       "      <td>Clothing</td>\n",
       "      <td>1</td>\n",
       "      <td>6</td>\n",
       "    </tr>\n",
       "    <tr>\n",
       "      <th>2</th>\n",
       "      <td>3</td>\n",
       "      <td>37</td>\n",
       "      <td>Male</td>\n",
       "      <td>38849</td>\n",
       "      <td>Bachelor</td>\n",
       "      <td>West</td>\n",
       "      <td>Silver</td>\n",
       "      <td>rare</td>\n",
       "      <td>11822</td>\n",
       "      <td>Clothing</td>\n",
       "      <td>0</td>\n",
       "      <td>6</td>\n",
       "    </tr>\n",
       "    <tr>\n",
       "      <th>3</th>\n",
       "      <td>4</td>\n",
       "      <td>30</td>\n",
       "      <td>Male</td>\n",
       "      <td>11568</td>\n",
       "      <td>HighSchool</td>\n",
       "      <td>South</td>\n",
       "      <td>Regular</td>\n",
       "      <td>frequent</td>\n",
       "      <td>4098</td>\n",
       "      <td>Food</td>\n",
       "      <td>0</td>\n",
       "      <td>7</td>\n",
       "    </tr>\n",
       "    <tr>\n",
       "      <th>4</th>\n",
       "      <td>5</td>\n",
       "      <td>31</td>\n",
       "      <td>Female</td>\n",
       "      <td>46952</td>\n",
       "      <td>College</td>\n",
       "      <td>North</td>\n",
       "      <td>Regular</td>\n",
       "      <td>occasional</td>\n",
       "      <td>19685</td>\n",
       "      <td>Clothing</td>\n",
       "      <td>1</td>\n",
       "      <td>5</td>\n",
       "    </tr>\n",
       "  </tbody>\n",
       "</table>\n",
       "</div>"
      ],
      "text/plain": [
       "   id  age  gender  income   education region loyalty_status  \\\n",
       "0   1   27    Male   40682    Bachelor   East           Gold   \n",
       "1   2   29    Male   15317     Masters   West        Regular   \n",
       "2   3   37    Male   38849    Bachelor   West         Silver   \n",
       "3   4   30    Male   11568  HighSchool  South        Regular   \n",
       "4   5   31  Female   46952     College  North        Regular   \n",
       "\n",
       "  purchase_frequency  purchase_amount product_category  promotion_usage  \\\n",
       "0           frequent            18249            Books                0   \n",
       "1               rare             4557         Clothing                1   \n",
       "2               rare            11822         Clothing                0   \n",
       "3           frequent             4098             Food                0   \n",
       "4         occasional            19685         Clothing                1   \n",
       "\n",
       "   satisfaction_score  \n",
       "0                   6  \n",
       "1                   6  \n",
       "2                   6  \n",
       "3                   7  \n",
       "4                   5  "
      ]
     },
     "execution_count": 5,
     "metadata": {},
     "output_type": "execute_result"
    }
   ],
   "source": [
    "df.head(5)"
   ]
  },
  {
   "cell_type": "code",
   "execution_count": 6,
   "id": "11959dc9-814e-4b25-a242-d1a5e348fecd",
   "metadata": {},
   "outputs": [
    {
     "data": {
      "text/html": [
       "<div>\n",
       "<style scoped>\n",
       "    .dataframe tbody tr th:only-of-type {\n",
       "        vertical-align: middle;\n",
       "    }\n",
       "\n",
       "    .dataframe tbody tr th {\n",
       "        vertical-align: top;\n",
       "    }\n",
       "\n",
       "    .dataframe thead th {\n",
       "        text-align: right;\n",
       "    }\n",
       "</style>\n",
       "<table border=\"1\" class=\"dataframe\">\n",
       "  <thead>\n",
       "    <tr style=\"text-align: right;\">\n",
       "      <th></th>\n",
       "      <th>id</th>\n",
       "      <th>age</th>\n",
       "      <th>gender</th>\n",
       "      <th>income</th>\n",
       "      <th>education</th>\n",
       "      <th>region</th>\n",
       "      <th>loyalty_status</th>\n",
       "      <th>purchase_frequency</th>\n",
       "      <th>purchase_amount</th>\n",
       "      <th>product_category</th>\n",
       "      <th>promotion_usage</th>\n",
       "      <th>satisfaction_score</th>\n",
       "    </tr>\n",
       "  </thead>\n",
       "  <tbody>\n",
       "    <tr>\n",
       "      <th>99995</th>\n",
       "      <td>99996</td>\n",
       "      <td>31</td>\n",
       "      <td>Female</td>\n",
       "      <td>19691</td>\n",
       "      <td>College</td>\n",
       "      <td>West</td>\n",
       "      <td>Regular</td>\n",
       "      <td>occasional</td>\n",
       "      <td>7075</td>\n",
       "      <td>Health</td>\n",
       "      <td>0</td>\n",
       "      <td>7</td>\n",
       "    </tr>\n",
       "    <tr>\n",
       "      <th>99996</th>\n",
       "      <td>99997</td>\n",
       "      <td>36</td>\n",
       "      <td>Male</td>\n",
       "      <td>17428</td>\n",
       "      <td>HighSchool</td>\n",
       "      <td>South</td>\n",
       "      <td>Regular</td>\n",
       "      <td>rare</td>\n",
       "      <td>6873</td>\n",
       "      <td>Health</td>\n",
       "      <td>0</td>\n",
       "      <td>5</td>\n",
       "    </tr>\n",
       "    <tr>\n",
       "      <th>99997</th>\n",
       "      <td>99998</td>\n",
       "      <td>29</td>\n",
       "      <td>Male</td>\n",
       "      <td>13222</td>\n",
       "      <td>College</td>\n",
       "      <td>West</td>\n",
       "      <td>Regular</td>\n",
       "      <td>frequent</td>\n",
       "      <td>5152</td>\n",
       "      <td>Clothing</td>\n",
       "      <td>0</td>\n",
       "      <td>5</td>\n",
       "    </tr>\n",
       "    <tr>\n",
       "      <th>99998</th>\n",
       "      <td>99999</td>\n",
       "      <td>31</td>\n",
       "      <td>Female</td>\n",
       "      <td>40093</td>\n",
       "      <td>Bachelor</td>\n",
       "      <td>West</td>\n",
       "      <td>Regular</td>\n",
       "      <td>frequent</td>\n",
       "      <td>16312</td>\n",
       "      <td>Health</td>\n",
       "      <td>1</td>\n",
       "      <td>5</td>\n",
       "    </tr>\n",
       "    <tr>\n",
       "      <th>99999</th>\n",
       "      <td>100000</td>\n",
       "      <td>35</td>\n",
       "      <td>Female</td>\n",
       "      <td>22249</td>\n",
       "      <td>College</td>\n",
       "      <td>West</td>\n",
       "      <td>Silver</td>\n",
       "      <td>rare</td>\n",
       "      <td>9426</td>\n",
       "      <td>Health</td>\n",
       "      <td>0</td>\n",
       "      <td>6</td>\n",
       "    </tr>\n",
       "  </tbody>\n",
       "</table>\n",
       "</div>"
      ],
      "text/plain": [
       "           id  age  gender  income   education region loyalty_status  \\\n",
       "99995   99996   31  Female   19691     College   West        Regular   \n",
       "99996   99997   36    Male   17428  HighSchool  South        Regular   \n",
       "99997   99998   29    Male   13222     College   West        Regular   \n",
       "99998   99999   31  Female   40093    Bachelor   West        Regular   \n",
       "99999  100000   35  Female   22249     College   West         Silver   \n",
       "\n",
       "      purchase_frequency  purchase_amount product_category  promotion_usage  \\\n",
       "99995         occasional             7075           Health                0   \n",
       "99996               rare             6873           Health                0   \n",
       "99997           frequent             5152         Clothing                0   \n",
       "99998           frequent            16312           Health                1   \n",
       "99999               rare             9426           Health                0   \n",
       "\n",
       "       satisfaction_score  \n",
       "99995                   7  \n",
       "99996                   5  \n",
       "99997                   5  \n",
       "99998                   5  \n",
       "99999                   6  "
      ]
     },
     "execution_count": 6,
     "metadata": {},
     "output_type": "execute_result"
    }
   ],
   "source": [
    "df.tail(5)"
   ]
  },
  {
   "cell_type": "code",
   "execution_count": 7,
   "id": "839a98a2-6fd3-4719-9859-10934c96c8e0",
   "metadata": {},
   "outputs": [
    {
     "name": "stdout",
     "output_type": "stream",
     "text": [
      "id                    0\n",
      "age                   0\n",
      "gender                0\n",
      "income                0\n",
      "education             0\n",
      "region                0\n",
      "loyalty_status        0\n",
      "purchase_frequency    0\n",
      "purchase_amount       0\n",
      "product_category      0\n",
      "promotion_usage       0\n",
      "satisfaction_score    0\n",
      "dtype: int64\n"
     ]
    }
   ],
   "source": [
    "#Data cleaning\n",
    "#Check for missing values\n",
    "print(df.isnull().sum())"
   ]
  },
  {
   "cell_type": "code",
   "execution_count": 8,
   "id": "9b2ebe1f-73bc-4175-a4eb-2a37cb2f46bf",
   "metadata": {},
   "outputs": [
    {
     "data": {
      "text/plain": [
       "id                     int64\n",
       "age                    int64\n",
       "gender                object\n",
       "income                 int64\n",
       "education             object\n",
       "region                object\n",
       "loyalty_status        object\n",
       "purchase_frequency    object\n",
       "purchase_amount        int64\n",
       "product_category      object\n",
       "promotion_usage        int64\n",
       "satisfaction_score     int64\n",
       "dtype: object"
      ]
     },
     "execution_count": 8,
     "metadata": {},
     "output_type": "execute_result"
    }
   ],
   "source": [
    "df.dtypes"
   ]
  },
  {
   "cell_type": "code",
   "execution_count": 9,
   "id": "54eb7331-618e-4fa4-8ebf-2be502e80403",
   "metadata": {},
   "outputs": [
    {
     "data": {
      "text/plain": [
       "gender\n",
       "Female    50074\n",
       "Male      49926\n",
       "Name: count, dtype: int64"
      ]
     },
     "execution_count": 9,
     "metadata": {},
     "output_type": "execute_result"
    }
   ],
   "source": [
    "gender=df['gender'].value_counts()\n",
    "gender"
   ]
  },
  {
   "cell_type": "code",
   "execution_count": 10,
   "id": "2f1232ff-3f34-44ec-a271-53ae4ce61a8d",
   "metadata": {},
   "outputs": [
    {
     "data": {
      "text/plain": [
       "region\n",
       "East     30074\n",
       "West     29935\n",
       "South    20073\n",
       "North    19918\n",
       "Name: count, dtype: int64"
      ]
     },
     "execution_count": 10,
     "metadata": {},
     "output_type": "execute_result"
    }
   ],
   "source": [
    "df['region'].value_counts()\n"
   ]
  },
  {
   "cell_type": "code",
   "execution_count": 11,
   "id": "8b3810d0-af0d-4d27-b6bd-d4c1b746314b",
   "metadata": {},
   "outputs": [
    {
     "data": {
      "text/html": [
       "<div>\n",
       "<style scoped>\n",
       "    .dataframe tbody tr th:only-of-type {\n",
       "        vertical-align: middle;\n",
       "    }\n",
       "\n",
       "    .dataframe tbody tr th {\n",
       "        vertical-align: top;\n",
       "    }\n",
       "\n",
       "    .dataframe thead th {\n",
       "        text-align: right;\n",
       "    }\n",
       "</style>\n",
       "<table border=\"1\" class=\"dataframe\">\n",
       "  <thead>\n",
       "    <tr style=\"text-align: right;\">\n",
       "      <th></th>\n",
       "      <th>id</th>\n",
       "      <th>age</th>\n",
       "      <th>income</th>\n",
       "      <th>purchase_amount</th>\n",
       "      <th>promotion_usage</th>\n",
       "      <th>satisfaction_score</th>\n",
       "    </tr>\n",
       "  </thead>\n",
       "  <tbody>\n",
       "    <tr>\n",
       "      <th>count</th>\n",
       "      <td>100000.000000</td>\n",
       "      <td>100000.000000</td>\n",
       "      <td>100000.000000</td>\n",
       "      <td>100000.000000</td>\n",
       "      <td>100000.000000</td>\n",
       "      <td>100000.000000</td>\n",
       "    </tr>\n",
       "    <tr>\n",
       "      <th>mean</th>\n",
       "      <td>50000.500000</td>\n",
       "      <td>30.003260</td>\n",
       "      <td>27516.269880</td>\n",
       "      <td>9634.790840</td>\n",
       "      <td>0.300800</td>\n",
       "      <td>5.009650</td>\n",
       "    </tr>\n",
       "    <tr>\n",
       "      <th>std</th>\n",
       "      <td>28867.657797</td>\n",
       "      <td>4.480535</td>\n",
       "      <td>12996.782587</td>\n",
       "      <td>4799.339449</td>\n",
       "      <td>0.458608</td>\n",
       "      <td>1.038714</td>\n",
       "    </tr>\n",
       "    <tr>\n",
       "      <th>min</th>\n",
       "      <td>1.000000</td>\n",
       "      <td>12.000000</td>\n",
       "      <td>5000.000000</td>\n",
       "      <td>1118.000000</td>\n",
       "      <td>0.000000</td>\n",
       "      <td>0.000000</td>\n",
       "    </tr>\n",
       "    <tr>\n",
       "      <th>25%</th>\n",
       "      <td>25000.750000</td>\n",
       "      <td>27.000000</td>\n",
       "      <td>16271.750000</td>\n",
       "      <td>5583.000000</td>\n",
       "      <td>0.000000</td>\n",
       "      <td>4.000000</td>\n",
       "    </tr>\n",
       "    <tr>\n",
       "      <th>50%</th>\n",
       "      <td>50000.500000</td>\n",
       "      <td>30.000000</td>\n",
       "      <td>27584.500000</td>\n",
       "      <td>9452.000000</td>\n",
       "      <td>0.000000</td>\n",
       "      <td>5.000000</td>\n",
       "    </tr>\n",
       "    <tr>\n",
       "      <th>75%</th>\n",
       "      <td>75000.250000</td>\n",
       "      <td>33.000000</td>\n",
       "      <td>38747.250000</td>\n",
       "      <td>13350.000000</td>\n",
       "      <td>1.000000</td>\n",
       "      <td>6.000000</td>\n",
       "    </tr>\n",
       "    <tr>\n",
       "      <th>max</th>\n",
       "      <td>100000.000000</td>\n",
       "      <td>49.000000</td>\n",
       "      <td>50000.000000</td>\n",
       "      <td>26204.000000</td>\n",
       "      <td>1.000000</td>\n",
       "      <td>10.000000</td>\n",
       "    </tr>\n",
       "  </tbody>\n",
       "</table>\n",
       "</div>"
      ],
      "text/plain": [
       "                  id            age         income  purchase_amount  \\\n",
       "count  100000.000000  100000.000000  100000.000000    100000.000000   \n",
       "mean    50000.500000      30.003260   27516.269880      9634.790840   \n",
       "std     28867.657797       4.480535   12996.782587      4799.339449   \n",
       "min         1.000000      12.000000    5000.000000      1118.000000   \n",
       "25%     25000.750000      27.000000   16271.750000      5583.000000   \n",
       "50%     50000.500000      30.000000   27584.500000      9452.000000   \n",
       "75%     75000.250000      33.000000   38747.250000     13350.000000   \n",
       "max    100000.000000      49.000000   50000.000000     26204.000000   \n",
       "\n",
       "       promotion_usage  satisfaction_score  \n",
       "count    100000.000000       100000.000000  \n",
       "mean          0.300800            5.009650  \n",
       "std           0.458608            1.038714  \n",
       "min           0.000000            0.000000  \n",
       "25%           0.000000            4.000000  \n",
       "50%           0.000000            5.000000  \n",
       "75%           1.000000            6.000000  \n",
       "max           1.000000           10.000000  "
      ]
     },
     "execution_count": 11,
     "metadata": {},
     "output_type": "execute_result"
    }
   ],
   "source": [
    "df.describe()"
   ]
  },
  {
   "cell_type": "code",
   "execution_count": 12,
   "id": "33df4dd1-e113-4069-9e22-0461086bbf78",
   "metadata": {},
   "outputs": [
    {
     "data": {
      "text/plain": [
       "education\n",
       "College       39874\n",
       "Bachelor      30279\n",
       "HighSchool    20031\n",
       "Masters        9816\n",
       "Name: count, dtype: int64"
      ]
     },
     "execution_count": 12,
     "metadata": {},
     "output_type": "execute_result"
    }
   ],
   "source": [
    "df['education'].value_counts()"
   ]
  },
  {
   "cell_type": "code",
   "execution_count": 13,
   "id": "7b313365-9887-4ebf-a3aa-5061e4726aa5",
   "metadata": {},
   "outputs": [
    {
     "data": {
      "text/plain": [
       "loyalty_status\n",
       "Regular    60138\n",
       "Silver     29964\n",
       "Gold        9898\n",
       "Name: count, dtype: int64"
      ]
     },
     "execution_count": 13,
     "metadata": {},
     "output_type": "execute_result"
    }
   ],
   "source": [
    "df['loyalty_status'].value_counts()"
   ]
  },
  {
   "cell_type": "code",
   "execution_count": 14,
   "id": "0d38be73-6334-4613-b552-9b99f8e9e571",
   "metadata": {},
   "outputs": [
    {
     "data": {
      "text/plain": [
       "product_category\n",
       "Electronics    30027\n",
       "Clothing       19989\n",
       "Books          14925\n",
       "Food           14822\n",
       "Health         10123\n",
       "Home            5079\n",
       "Beauty          5035\n",
       "Name: count, dtype: int64"
      ]
     },
     "execution_count": 14,
     "metadata": {},
     "output_type": "execute_result"
    }
   ],
   "source": [
    "df['product_category'].value_counts()"
   ]
  },
  {
   "cell_type": "code",
   "execution_count": 15,
   "id": "f695ffb3-8c04-4103-919d-3266e6a21aa4",
   "metadata": {},
   "outputs": [
    {
     "data": {
      "text/plain": [
       "satisfaction_score\n",
       "5     38490\n",
       "6     24315\n",
       "4     23854\n",
       "7      6123\n",
       "3      6018\n",
       "8       616\n",
       "2       534\n",
       "9        30\n",
       "1        18\n",
       "10        1\n",
       "0         1\n",
       "Name: count, dtype: int64"
      ]
     },
     "execution_count": 15,
     "metadata": {},
     "output_type": "execute_result"
    }
   ],
   "source": [
    "df['satisfaction_score'].value_counts()"
   ]
  },
  {
   "cell_type": "code",
   "execution_count": 16,
   "id": "7e3c846e-9798-43f4-b4e6-baf11c5e69fe",
   "metadata": {},
   "outputs": [
    {
     "data": {
      "text/plain": [
       "purchase_frequency\n",
       "rare          50019\n",
       "occasional    29886\n",
       "frequent      20095\n",
       "Name: count, dtype: int64"
      ]
     },
     "execution_count": 16,
     "metadata": {},
     "output_type": "execute_result"
    }
   ],
   "source": [
    "df['purchase_frequency'].value_counts()"
   ]
  },
  {
   "cell_type": "code",
   "execution_count": 17,
   "id": "572246ff-bc44-47fc-ad4d-82a05024dfbd",
   "metadata": {},
   "outputs": [
    {
     "data": {
      "text/plain": [
       "promotion_usage\n",
       "0    69920\n",
       "1    30080\n",
       "Name: count, dtype: int64"
      ]
     },
     "execution_count": 17,
     "metadata": {},
     "output_type": "execute_result"
    }
   ],
   "source": [
    "df['promotion_usage'].value_counts()"
   ]
  },
  {
   "cell_type": "code",
   "execution_count": 18,
   "id": "3b09e7e1-d3a1-4efb-a7b8-a346c3697d9e",
   "metadata": {},
   "outputs": [
    {
     "data": {
      "image/png": "[encoded data removed]",
      "text/plain": [
       "<Figure size 1200x1000 with 6 Axes>"
      ]
     },
     "metadata": {},
     "output_type": "display_data"
    }
   ],
   "source": [
    "df.hist(figsize=(12, 10))\n",
    "plt.xticks(rotation=45)  # Improve readability for categorical features\n",
    "plt.show()"
   ]
  },
  {
   "cell_type": "markdown",
   "id": "ed14e08f-a669-4d1d-839f-7332d3b6a1d8",
   "metadata": {},
   "source": [
    "# Question 1\n",
    "***\n",
    "\n",
    "### Research Question: Do loyalty programs affect how frequently the customers shop? \n",
    "\n",
    "### Hypothesis: If loyalty programs are related to the frequency of customer purchases , there will be a strong correlation. \n",
    "\n",
    "### Null Hypothesis: There is no association between loyalty status and purchase frequency.\n",
    "\n",
    "### Alternative Hypothesis: There is an assocaition between loyalty status and purchase frequency.\n"
   ]
  },
  {
   "cell_type": "code",
   "execution_count": 19,
   "id": "08bdc50e-665b-44bd-8ee0-6f91581cd491",
   "metadata": {},
   "outputs": [
    {
     "name": "stdout",
     "output_type": "stream",
     "text": [
      "loyalty_status\n",
      "Regular    60138\n",
      "Silver     29964\n",
      "Gold        9898\n",
      "Name: count, dtype: int64\n",
      "\n",
      "purchase_frequency\n",
      "rare          50019\n",
      "occasional    29886\n",
      "frequent      20095\n",
      "Name: count, dtype: int64\n",
      "\n"
     ]
    }
   ],
   "source": [
    "#Frequency table \n",
    "print(df['loyalty_status'].value_counts(), end = \"\\n\\n\")\n",
    "print(df['purchase_frequency'].value_counts(), end = \"\\n\\n\")\n"
   ]
  },
  {
   "cell_type": "code",
   "execution_count": 20,
   "id": "9ccb5f95-8a96-42a5-94ff-27365ff6494b",
   "metadata": {},
   "outputs": [
    {
     "data": {
      "text/plain": [
       "loyalty_status  purchase_frequency\n",
       "Gold            rare                   4974\n",
       "                occasional             2932\n",
       "                frequent               1992\n",
       "Regular         rare                  30112\n",
       "                occasional            18037\n",
       "                frequent              11989\n",
       "Silver          rare                  14933\n",
       "                occasional             8917\n",
       "                frequent               6114\n",
       "Name: count, dtype: int64"
      ]
     },
     "execution_count": 20,
     "metadata": {},
     "output_type": "execute_result"
    }
   ],
   "source": [
    "# Do loyalty programs affect how frequntly the customers shop? \n",
    "purchase_by_loyalty = df.groupby(\"loyalty_status\")[\"purchase_frequency\"].value_counts()\n",
    "purchase_by_loyalty"
   ]
  },
  {
   "cell_type": "code",
   "execution_count": 21,
   "id": "cc0ab8bb-eb64-4a07-a47e-809311eb50cb",
   "metadata": {},
   "outputs": [
    {
     "data": {
      "image/png": "[encoded data removed]",
      "text/plain": [
       "<Figure size 640x480 with 1 Axes>"
      ]
     },
     "metadata": {},
     "output_type": "display_data"
    }
   ],
   "source": [
    "# Generate a pie plot showing the distribution loyalty status using Pandas\n",
    "loyalty_plot = df[\"loyalty_status\"].value_counts()\n",
    "loyalty_plot.plot(kind='pie', autopct='%1.1f%%')\n",
    "\n",
    "#Plot title\n",
    "plt.title(\"Loyalty Card Status\")\n",
    "plt.savefig(\"resources/Loyalty_Card_Status\")\n",
    "\n",
    "#Display plot \n",
    "plt.show()"
   ]
  },
  {
   "cell_type": "code",
   "execution_count": 22,
   "id": "660c48c1-7941-45f4-b5db-48c0852d03f6",
   "metadata": {},
   "outputs": [
    {
     "data": {
      "image/png": "[encoded data removed]",
      "text/plain": [
       "<Figure size 1500x500 with 1 Axes>"
      ]
     },
     "metadata": {},
     "output_type": "display_data"
    }
   ],
   "source": [
    "# Create stacked column chart \n",
    "stacked_chart = df.groupby(['loyalty_status', 'purchase_frequency']).size().unstack().plot(kind='bar', stacked=True, figsize=(15, 5))\n",
    "\n",
    "# Label x and y axis and add title \n",
    "stacked_chart.set_xlabel(\"Loyalty Status\")\n",
    "stacked_chart.set_ylabel(\"Number of Customers\")\n",
    "plt.title(\"Loyalty Card Status Effects on Purchase Frequency\")\n",
    "plt.savefig(\"resources/Loyalty_Card Status_Effects_on_Purchase_Frequency\")\n",
    "# Display plot\n",
    "plt.show()\n"
   ]
  },
  {
   "cell_type": "markdown",
   "id": "ed44135b-6a1b-4399-90b2-bd153a67e52b",
   "metadata": {},
   "source": [
    "# Analysis\n",
    "***\n",
    "\n",
    "### In summary, loyalty programs do not affect how often customers shop.​\n",
    "### Several factors can play a part in this.​\n",
    "### According to the State of Brand Loyalty in the U.S report (2023), only 52% of customers are engaging in loyalty programs and 77% of loyalty programs fail within their first two years due to loss of engagement. ​\n",
    "### What changes"
   ]
  },
  {
   "cell_type": "markdown",
   "id": "1cf0102c-14a6-425e-827d-605eac9be8e2",
   "metadata": {},
   "source": [
    "# Question 2\n",
    "***\n",
    "\n",
    "### Research Question: Does the age of a customer affect how often they shop?\n",
    "\n",
    "### Hypothesis: \n",
    "\n",
    "### Null Hypothesis:\n",
    "\n",
    "### Alternative Hypothesis:"
   ]
  },
  {
   "cell_type": "code",
   "execution_count": 23,
   "id": "2e31f5eb-d52c-4c41-b734-5f11166f9a1f",
   "metadata": {},
   "outputs": [
    {
     "name": "stdout",
     "output_type": "stream",
     "text": [
      "loyalty_status\n",
      "Regular    60138\n",
      "Silver     29964\n",
      "Gold        9898\n",
      "Name: count, dtype: int64\n",
      "\n",
      "education\n",
      "College       39874\n",
      "Bachelor      30279\n",
      "HighSchool    20031\n",
      "Masters        9816\n",
      "Name: count, dtype: int64\n",
      "\n",
      "region\n",
      "East     30074\n",
      "West     29935\n",
      "South    20073\n",
      "North    19918\n",
      "Name: count, dtype: int64\n",
      "\n",
      "gender\n",
      "Female    50074\n",
      "Male      49926\n",
      "Name: count, dtype: int64\n",
      "\n",
      "product_category\n",
      "Electronics    30027\n",
      "Clothing       19989\n",
      "Books          14925\n",
      "Food           14822\n",
      "Health         10123\n",
      "Home            5079\n",
      "Beauty          5035\n",
      "Name: count, dtype: int64\n",
      "\n"
     ]
    }
   ],
   "source": [
    "print(df['loyalty_status'].value_counts(), end = \"\\n\\n\")\n",
    "print(df['education'].value_counts(), end = \"\\n\\n\")\n",
    "print(df['region'].value_counts(), end = \"\\n\\n\")\n",
    "print(df['gender'].value_counts(), end = \"\\n\\n\")\n",
    "print(df['product_category'].value_counts(), end = \"\\n\\n\")"
   ]
  },
  {
   "cell_type": "code",
   "execution_count": 24,
   "id": "24a0f0c1-3dff-412c-ba3b-83d5fe4d310d",
   "metadata": {},
   "outputs": [
    {
     "data": {
      "text/html": [
       "<div>\n",
       "<style scoped>\n",
       "    .dataframe tbody tr th:only-of-type {\n",
       "        vertical-align: middle;\n",
       "    }\n",
       "\n",
       "    .dataframe tbody tr th {\n",
       "        vertical-align: top;\n",
       "    }\n",
       "\n",
       "    .dataframe thead th {\n",
       "        text-align: right;\n",
       "    }\n",
       "</style>\n",
       "<table border=\"1\" class=\"dataframe\">\n",
       "  <thead>\n",
       "    <tr style=\"text-align: right;\">\n",
       "      <th></th>\n",
       "      <th>age</th>\n",
       "      <th>gender</th>\n",
       "      <th>purchase_frequency</th>\n",
       "      <th>purchase_amount</th>\n",
       "    </tr>\n",
       "  </thead>\n",
       "  <tbody>\n",
       "    <tr>\n",
       "      <th>0</th>\n",
       "      <td>27</td>\n",
       "      <td>Male</td>\n",
       "      <td>frequent</td>\n",
       "      <td>18249</td>\n",
       "    </tr>\n",
       "    <tr>\n",
       "      <th>1</th>\n",
       "      <td>29</td>\n",
       "      <td>Male</td>\n",
       "      <td>rare</td>\n",
       "      <td>4557</td>\n",
       "    </tr>\n",
       "    <tr>\n",
       "      <th>2</th>\n",
       "      <td>37</td>\n",
       "      <td>Male</td>\n",
       "      <td>rare</td>\n",
       "      <td>11822</td>\n",
       "    </tr>\n",
       "    <tr>\n",
       "      <th>3</th>\n",
       "      <td>30</td>\n",
       "      <td>Male</td>\n",
       "      <td>frequent</td>\n",
       "      <td>4098</td>\n",
       "    </tr>\n",
       "    <tr>\n",
       "      <th>4</th>\n",
       "      <td>31</td>\n",
       "      <td>Female</td>\n",
       "      <td>occasional</td>\n",
       "      <td>19685</td>\n",
       "    </tr>\n",
       "    <tr>\n",
       "      <th>5</th>\n",
       "      <td>38</td>\n",
       "      <td>Male</td>\n",
       "      <td>occasional</td>\n",
       "      <td>2822</td>\n",
       "    </tr>\n",
       "    <tr>\n",
       "      <th>6</th>\n",
       "      <td>32</td>\n",
       "      <td>Female</td>\n",
       "      <td>frequent</td>\n",
       "      <td>3293</td>\n",
       "    </tr>\n",
       "    <tr>\n",
       "      <th>7</th>\n",
       "      <td>24</td>\n",
       "      <td>Female</td>\n",
       "      <td>rare</td>\n",
       "      <td>21794</td>\n",
       "    </tr>\n",
       "    <tr>\n",
       "      <th>8</th>\n",
       "      <td>27</td>\n",
       "      <td>Male</td>\n",
       "      <td>occasional</td>\n",
       "      <td>5819</td>\n",
       "    </tr>\n",
       "    <tr>\n",
       "      <th>9</th>\n",
       "      <td>28</td>\n",
       "      <td>Female</td>\n",
       "      <td>rare</td>\n",
       "      <td>8779</td>\n",
       "    </tr>\n",
       "    <tr>\n",
       "      <th>10</th>\n",
       "      <td>35</td>\n",
       "      <td>Male</td>\n",
       "      <td>rare</td>\n",
       "      <td>16158</td>\n",
       "    </tr>\n",
       "    <tr>\n",
       "      <th>11</th>\n",
       "      <td>32</td>\n",
       "      <td>Female</td>\n",
       "      <td>rare</td>\n",
       "      <td>13608</td>\n",
       "    </tr>\n",
       "  </tbody>\n",
       "</table>\n",
       "</div>"
      ],
      "text/plain": [
       "    age  gender purchase_frequency  purchase_amount\n",
       "0    27    Male           frequent            18249\n",
       "1    29    Male               rare             4557\n",
       "2    37    Male               rare            11822\n",
       "3    30    Male           frequent             4098\n",
       "4    31  Female         occasional            19685\n",
       "5    38    Male         occasional             2822\n",
       "6    32  Female           frequent             3293\n",
       "7    24  Female               rare            21794\n",
       "8    27    Male         occasional             5819\n",
       "9    28  Female               rare             8779\n",
       "10   35    Male               rare            16158\n",
       "11   32  Female               rare            13608"
      ]
     },
     "execution_count": 24,
     "metadata": {},
     "output_type": "execute_result"
    }
   ],
   "source": [
    "new_customer_df = df.drop([ 'id', 'income', 'education', 'region',\n",
    "                 'loyalty_status','product_category','promotion_usage', 'satisfaction_score'], axis=1,)\n",
    "new_customer_df.head(12)"
   ]
  },
  {
   "cell_type": "code",
   "execution_count": 25,
   "id": "0a83ceb4-4c8f-4653-bb29-bcf7bdd60b69",
   "metadata": {},
   "outputs": [],
   "source": [
    "sns.set_style(\"dark\")"
   ]
  },
  {
   "cell_type": "code",
   "execution_count": 26,
   "id": "40c30d29-50e0-44f6-a4bd-a677c35d58e6",
   "metadata": {},
   "outputs": [
    {
     "data": {
      "image/png": "[encoded data removed]",
      "text/plain": [
       "<Figure size 1100x700 with 1 Axes>"
      ]
     },
     "metadata": {},
     "output_type": "display_data"
    }
   ],
   "source": [
    "age_purchase_graph= plt.figure(figsize = (11, 7))\n",
    "sns.barplot(x='age', y='purchase_amount', data= new_customer_df, ci=None,\n",
    "           palette= 'winter')\n",
    "plt.title('Age vs. purchase amount')\n",
    "plt.xlabel('age')\n",
    "plt.ylabel('purchase amount')\n",
    "plt.savefig(\"resources/Age_vs_purchase_amount\")\n",
    "plt.show()"
   ]
  },
  {
   "cell_type": "code",
   "execution_count": 27,
   "id": "cc76331e-da56-4769-b872-3d70c76cc58b",
   "metadata": {},
   "outputs": [
    {
     "data": {
      "text/plain": [
       "age\n",
       "12     8455.333333\n",
       "13    11269.000000\n",
       "14     8633.846154\n",
       "15     9166.974359\n",
       "16    10685.772727\n",
       "17    10017.699301\n",
       "18     9345.206009\n",
       "19    10266.124726\n",
       "20     9856.582773\n",
       "21     9570.668071\n",
       "22     9553.513966\n",
       "23     9748.220030\n",
       "24     9528.345638\n",
       "25     9590.613262\n",
       "26     9630.954267\n",
       "27     9684.267872\n",
       "28     9615.519598\n",
       "29     9609.652154\n",
       "30     9654.836698\n",
       "31     9716.646038\n",
       "32     9618.124844\n",
       "33     9595.328251\n",
       "34     9589.517136\n",
       "35     9546.379848\n",
       "36     9707.389339\n",
       "37     9684.183537\n",
       "38     9596.143495\n",
       "39     9525.514167\n",
       "40     9863.445748\n",
       "41     9936.266112\n",
       "42     9155.739669\n",
       "43     9616.656000\n",
       "44     8959.051724\n",
       "45     9083.857143\n",
       "46     9372.090909\n",
       "47     8315.153846\n",
       "48    15745.500000\n",
       "49    18666.000000\n",
       "Name: purchase_amount, dtype: float64"
      ]
     },
     "execution_count": 27,
     "metadata": {},
     "output_type": "execute_result"
    }
   ],
   "source": [
    "new_customer_df.groupby('age').purchase_amount.mean()"
   ]
  },
  {
   "cell_type": "code",
   "execution_count": 28,
   "id": "7f06b250-772d-442f-b04e-6f714c5c7bb9",
   "metadata": {},
   "outputs": [
    {
     "data": {
      "text/plain": [
       "gender  purchase_frequency\n",
       "Female  frequent              10067\n",
       "        occasional            14931\n",
       "        rare                  25076\n",
       "Male    frequent              10028\n",
       "        occasional            14955\n",
       "        rare                  24943\n",
       "Name: purchase_frequency, dtype: int64"
      ]
     },
     "execution_count": 28,
     "metadata": {},
     "output_type": "execute_result"
    }
   ],
   "source": [
    "gender_purchase_count = new_customer_df.groupby(['gender', 'purchase_frequency'])['purchase_frequency'].size()\n",
    "gender_purchase_count"
   ]
  },
  {
   "cell_type": "code",
   "execution_count": 29,
   "id": "61d88359-e8e4-4782-ae3a-ec740eada8cc",
   "metadata": {},
   "outputs": [
    {
     "name": "stdout",
     "output_type": "stream",
     "text": [
      "gender\n",
      "Female    54829\n",
      "Male      45171\n",
      "Name: abc, dtype: int64\n"
     ]
    }
   ],
   "source": [
    "data = {'gender': ['Male', 'Female', 'Male', 'Male', 'Female','Female'],\n",
    "        'abc': [10067, 14931, 25076, 10028, 14955,24943 ]}\n",
    "gender_purchase_df = pd.DataFrame(data)\n",
    "sum_abc_by_gender = gender_purchase_df.groupby('gender')['abc'].sum()\n",
    "print(sum_abc_by_gender)"
   ]
  },
  {
   "cell_type": "code",
   "execution_count": 30,
   "id": "34a8d721-3645-4f20-a931-d7e760e9a74f",
   "metadata": {},
   "outputs": [
    {
     "data": {
      "image/png": "[encoded data removed]",
      "text/plain": [
       "<Figure size 1200x800 with 1 Axes>"
      ]
     },
     "metadata": {},
     "output_type": "display_data"
    }
   ],
   "source": [
    "plt.figure(figsize=(12,8))\n",
    "gender_purchase_count.plot(kind='bar', stacked=True)\n",
    "plt.title('Gender purchase amount')\n",
    "plt.xlabel('age')\n",
    "plt.ylabel('purchase_amount')\n",
    "plt.savefig(\"resources/Gender_purchase_amount\")\n",
    "plt.show()"
   ]
  },
  {
   "cell_type": "code",
   "execution_count": 31,
   "id": "059c64f3-e8e0-4559-aac6-e088ba1f3cdd",
   "metadata": {},
   "outputs": [
    {
     "data": {
      "image/png": "[encoded data removed]",
      "text/plain": [
       "<Figure size 1100x700 with 1 Axes>"
      ]
     },
     "metadata": {},
     "output_type": "display_data"
    }
   ],
   "source": [
    "plt.figure(figsize = (11, 7))\n",
    "new_customer_df.groupby('gender')['purchase_amount'].size().plot(kind='bar')\n",
    "plt.title('Female vs Male Purchase Amount')\n",
    "plt.xlabel('gender')\n",
    "plt.ylabel('purchase_amount')\n",
    "plt.savefig(\"resources/Female_vs_male_purchase_amount\")\n",
    "plt.show()"
   ]
  },
  {
   "cell_type": "markdown",
   "id": "cd3a3c4a-3f19-4bf1-ac9f-9a5587fcbd8a",
   "metadata": {},
   "source": [
    "# Analysis \n",
    "***\n",
    "### Based off of the data that I pulled age does effect often a customer shops. \n",
    "### As you can tell from the data, 49 year olds shop the most right behind them are 48 year olds. \n",
    "### Coming in 3rd surprisingly are 13 year olds. I even went a step further to see if male vs female who shops more. \n",
    "### Females shop more than males as the number tells us they purchase about 10,000 more items than males."
   ]
  },
  {
   "cell_type": "code",
   "execution_count": null,
   "id": "b5abc4c8-dacf-4b60-9baf-3f4b6ac8c080",
   "metadata": {},
   "outputs": [],
   "source": []
  },
  {
   "cell_type": "markdown",
   "id": "7ea94439-fda5-4d9e-92a5-3555bde5e546",
   "metadata": {},
   "source": [
    "# Question 3 \n",
    "***\n",
    "\n",
    "### Research Question: How does promotion usage relate to purchase frequency?\n",
    "\n",
    "### Hypothesis: If offered a promotion then a customer is may feel more inclined to shop\n",
    "\n",
    "### Null Hypothesis: Despite having a promotion the customer is not more likely to shop\n",
    "\n",
    "### Alternative Hypothesis: Having a promotion means a customer is more likely to shop"
   ]
  },
  {
   "cell_type": "code",
   "execution_count": 32,
   "id": "89d475c0-53e1-4bbc-ac9b-7b4a2ae33da1",
   "metadata": {},
   "outputs": [
    {
     "data": {
      "text/html": [
       "<div>\n",
       "<style scoped>\n",
       "    .dataframe tbody tr th:only-of-type {\n",
       "        vertical-align: middle;\n",
       "    }\n",
       "\n",
       "    .dataframe tbody tr th {\n",
       "        vertical-align: top;\n",
       "    }\n",
       "\n",
       "    .dataframe thead th {\n",
       "        text-align: right;\n",
       "    }\n",
       "</style>\n",
       "<table border=\"1\" class=\"dataframe\">\n",
       "  <thead>\n",
       "    <tr style=\"text-align: right;\">\n",
       "      <th></th>\n",
       "      <th>id</th>\n",
       "      <th>gender</th>\n",
       "      <th>purchase_frequency</th>\n",
       "      <th>purchase_amount</th>\n",
       "      <th>product_category</th>\n",
       "      <th>promotion_usage</th>\n",
       "    </tr>\n",
       "  </thead>\n",
       "  <tbody>\n",
       "    <tr>\n",
       "      <th>0</th>\n",
       "      <td>1</td>\n",
       "      <td>Male</td>\n",
       "      <td>frequent</td>\n",
       "      <td>18249</td>\n",
       "      <td>Books</td>\n",
       "      <td>0</td>\n",
       "    </tr>\n",
       "    <tr>\n",
       "      <th>1</th>\n",
       "      <td>2</td>\n",
       "      <td>Male</td>\n",
       "      <td>rare</td>\n",
       "      <td>4557</td>\n",
       "      <td>Clothing</td>\n",
       "      <td>1</td>\n",
       "    </tr>\n",
       "    <tr>\n",
       "      <th>2</th>\n",
       "      <td>3</td>\n",
       "      <td>Male</td>\n",
       "      <td>rare</td>\n",
       "      <td>11822</td>\n",
       "      <td>Clothing</td>\n",
       "      <td>0</td>\n",
       "    </tr>\n",
       "    <tr>\n",
       "      <th>3</th>\n",
       "      <td>4</td>\n",
       "      <td>Male</td>\n",
       "      <td>frequent</td>\n",
       "      <td>4098</td>\n",
       "      <td>Food</td>\n",
       "      <td>0</td>\n",
       "    </tr>\n",
       "    <tr>\n",
       "      <th>4</th>\n",
       "      <td>5</td>\n",
       "      <td>Female</td>\n",
       "      <td>occasional</td>\n",
       "      <td>19685</td>\n",
       "      <td>Clothing</td>\n",
       "      <td>1</td>\n",
       "    </tr>\n",
       "    <tr>\n",
       "      <th>...</th>\n",
       "      <td>...</td>\n",
       "      <td>...</td>\n",
       "      <td>...</td>\n",
       "      <td>...</td>\n",
       "      <td>...</td>\n",
       "      <td>...</td>\n",
       "    </tr>\n",
       "    <tr>\n",
       "      <th>99995</th>\n",
       "      <td>99996</td>\n",
       "      <td>Female</td>\n",
       "      <td>occasional</td>\n",
       "      <td>7075</td>\n",
       "      <td>Health</td>\n",
       "      <td>0</td>\n",
       "    </tr>\n",
       "    <tr>\n",
       "      <th>99996</th>\n",
       "      <td>99997</td>\n",
       "      <td>Male</td>\n",
       "      <td>rare</td>\n",
       "      <td>6873</td>\n",
       "      <td>Health</td>\n",
       "      <td>0</td>\n",
       "    </tr>\n",
       "    <tr>\n",
       "      <th>99997</th>\n",
       "      <td>99998</td>\n",
       "      <td>Male</td>\n",
       "      <td>frequent</td>\n",
       "      <td>5152</td>\n",
       "      <td>Clothing</td>\n",
       "      <td>0</td>\n",
       "    </tr>\n",
       "    <tr>\n",
       "      <th>99998</th>\n",
       "      <td>99999</td>\n",
       "      <td>Female</td>\n",
       "      <td>frequent</td>\n",
       "      <td>16312</td>\n",
       "      <td>Health</td>\n",
       "      <td>1</td>\n",
       "    </tr>\n",
       "    <tr>\n",
       "      <th>99999</th>\n",
       "      <td>100000</td>\n",
       "      <td>Female</td>\n",
       "      <td>rare</td>\n",
       "      <td>9426</td>\n",
       "      <td>Health</td>\n",
       "      <td>0</td>\n",
       "    </tr>\n",
       "  </tbody>\n",
       "</table>\n",
       "<p>100000 rows × 6 columns</p>\n",
       "</div>"
      ],
      "text/plain": [
       "           id  gender purchase_frequency  purchase_amount product_category  \\\n",
       "0           1    Male           frequent            18249            Books   \n",
       "1           2    Male               rare             4557         Clothing   \n",
       "2           3    Male               rare            11822         Clothing   \n",
       "3           4    Male           frequent             4098             Food   \n",
       "4           5  Female         occasional            19685         Clothing   \n",
       "...       ...     ...                ...              ...              ...   \n",
       "99995   99996  Female         occasional             7075           Health   \n",
       "99996   99997    Male               rare             6873           Health   \n",
       "99997   99998    Male           frequent             5152         Clothing   \n",
       "99998   99999  Female           frequent            16312           Health   \n",
       "99999  100000  Female               rare             9426           Health   \n",
       "\n",
       "       promotion_usage  \n",
       "0                    0  \n",
       "1                    1  \n",
       "2                    0  \n",
       "3                    0  \n",
       "4                    1  \n",
       "...                ...  \n",
       "99995                0  \n",
       "99996                0  \n",
       "99997                0  \n",
       "99998                1  \n",
       "99999                0  \n",
       "\n",
       "[100000 rows x 6 columns]"
      ]
     },
     "execution_count": 32,
     "metadata": {},
     "output_type": "execute_result"
    }
   ],
   "source": [
    "#Data Frame Seperating data by id, Gender, Purchase Frequency, Purchase Amount, Product Category, and Promotion Usage\n",
    "promotion_data = df.drop(['age', 'income', 'education', 'region', 'satisfaction_score', 'loyalty_status'], axis=1)\n",
    "promotion_data = promotion_data.dropna()\n",
    "promotion_data"
   ]
  },
  {
   "cell_type": "code",
   "execution_count": 33,
   "id": "aecd63b8-b814-49d6-b924-2f2e965687ee",
   "metadata": {},
   "outputs": [
    {
     "data": {
      "image/png": "[encoded data removed]",
      "text/plain": [
       "<Figure size 640x480 with 1 Axes>"
      ]
     },
     "metadata": {},
     "output_type": "display_data"
    }
   ],
   "source": [
    "promotion_data['purchase_frequency'].value_counts().plot(kind='pie',\n",
    "                                                         autopct='%1.1f%%',\n",
    "                                                         labels=['Rare','Occasional','Frequent'],\n",
    "                                                         explode=[0.01,0.01,0.04],\n",
    "                                                        colors=[\"maroon\",\"#2E5B88\", \"#B9DDF1\"])\n",
    "plt.title('Purchase Frequency')\n",
    "plt.ylabel('')\n",
    "plt.savefig(\"resources/Purchase_Frequency\")\n",
    "plt.show()"
   ]
  },
  {
   "cell_type": "code",
   "execution_count": 34,
   "id": "51de043d-f126-4ed4-a5a3-72b2effb2405",
   "metadata": {},
   "outputs": [
    {
     "data": {
      "text/html": [
       "<div>\n",
       "<style scoped>\n",
       "    .dataframe tbody tr th:only-of-type {\n",
       "        vertical-align: middle;\n",
       "    }\n",
       "\n",
       "    .dataframe tbody tr th {\n",
       "        vertical-align: top;\n",
       "    }\n",
       "\n",
       "    .dataframe thead th {\n",
       "        text-align: right;\n",
       "    }\n",
       "</style>\n",
       "<table border=\"1\" class=\"dataframe\">\n",
       "  <thead>\n",
       "    <tr style=\"text-align: right;\">\n",
       "      <th></th>\n",
       "      <th>id</th>\n",
       "      <th>gender</th>\n",
       "      <th>purchase_frequency</th>\n",
       "      <th>purchase_amount</th>\n",
       "      <th>product_category</th>\n",
       "      <th>promotion_usage</th>\n",
       "    </tr>\n",
       "  </thead>\n",
       "  <tbody>\n",
       "    <tr>\n",
       "      <th>1</th>\n",
       "      <td>2</td>\n",
       "      <td>Male</td>\n",
       "      <td>rare</td>\n",
       "      <td>4557</td>\n",
       "      <td>Clothing</td>\n",
       "      <td>1</td>\n",
       "    </tr>\n",
       "    <tr>\n",
       "      <th>4</th>\n",
       "      <td>5</td>\n",
       "      <td>Female</td>\n",
       "      <td>occasional</td>\n",
       "      <td>19685</td>\n",
       "      <td>Clothing</td>\n",
       "      <td>1</td>\n",
       "    </tr>\n",
       "    <tr>\n",
       "      <th>10</th>\n",
       "      <td>11</td>\n",
       "      <td>Male</td>\n",
       "      <td>rare</td>\n",
       "      <td>16158</td>\n",
       "      <td>Home</td>\n",
       "      <td>1</td>\n",
       "    </tr>\n",
       "    <tr>\n",
       "      <th>12</th>\n",
       "      <td>13</td>\n",
       "      <td>Male</td>\n",
       "      <td>occasional</td>\n",
       "      <td>2450</td>\n",
       "      <td>Clothing</td>\n",
       "      <td>1</td>\n",
       "    </tr>\n",
       "    <tr>\n",
       "      <th>13</th>\n",
       "      <td>14</td>\n",
       "      <td>Female</td>\n",
       "      <td>occasional</td>\n",
       "      <td>5579</td>\n",
       "      <td>Books</td>\n",
       "      <td>1</td>\n",
       "    </tr>\n",
       "    <tr>\n",
       "      <th>...</th>\n",
       "      <td>...</td>\n",
       "      <td>...</td>\n",
       "      <td>...</td>\n",
       "      <td>...</td>\n",
       "      <td>...</td>\n",
       "      <td>...</td>\n",
       "    </tr>\n",
       "    <tr>\n",
       "      <th>328</th>\n",
       "      <td>329</td>\n",
       "      <td>Female</td>\n",
       "      <td>occasional</td>\n",
       "      <td>16138</td>\n",
       "      <td>Clothing</td>\n",
       "      <td>1</td>\n",
       "    </tr>\n",
       "    <tr>\n",
       "      <th>329</th>\n",
       "      <td>330</td>\n",
       "      <td>Female</td>\n",
       "      <td>occasional</td>\n",
       "      <td>4709</td>\n",
       "      <td>Clothing</td>\n",
       "      <td>1</td>\n",
       "    </tr>\n",
       "    <tr>\n",
       "      <th>333</th>\n",
       "      <td>334</td>\n",
       "      <td>Male</td>\n",
       "      <td>rare</td>\n",
       "      <td>10953</td>\n",
       "      <td>Books</td>\n",
       "      <td>1</td>\n",
       "    </tr>\n",
       "    <tr>\n",
       "      <th>337</th>\n",
       "      <td>338</td>\n",
       "      <td>Male</td>\n",
       "      <td>rare</td>\n",
       "      <td>15592</td>\n",
       "      <td>Beauty</td>\n",
       "      <td>1</td>\n",
       "    </tr>\n",
       "    <tr>\n",
       "      <th>339</th>\n",
       "      <td>340</td>\n",
       "      <td>Male</td>\n",
       "      <td>rare</td>\n",
       "      <td>7372</td>\n",
       "      <td>Food</td>\n",
       "      <td>1</td>\n",
       "    </tr>\n",
       "  </tbody>\n",
       "</table>\n",
       "<p>100 rows × 6 columns</p>\n",
       "</div>"
      ],
      "text/plain": [
       "      id  gender purchase_frequency  purchase_amount product_category  \\\n",
       "1      2    Male               rare             4557         Clothing   \n",
       "4      5  Female         occasional            19685         Clothing   \n",
       "10    11    Male               rare            16158             Home   \n",
       "12    13    Male         occasional             2450         Clothing   \n",
       "13    14  Female         occasional             5579            Books   \n",
       "..   ...     ...                ...              ...              ...   \n",
       "328  329  Female         occasional            16138         Clothing   \n",
       "329  330  Female         occasional             4709         Clothing   \n",
       "333  334    Male               rare            10953            Books   \n",
       "337  338    Male               rare            15592           Beauty   \n",
       "339  340    Male               rare             7372             Food   \n",
       "\n",
       "     promotion_usage  \n",
       "1                  1  \n",
       "4                  1  \n",
       "10                 1  \n",
       "12                 1  \n",
       "13                 1  \n",
       "..               ...  \n",
       "328                1  \n",
       "329                1  \n",
       "333                1  \n",
       "337                1  \n",
       "339                1  \n",
       "\n",
       "[100 rows x 6 columns]"
      ]
     },
     "execution_count": 34,
     "metadata": {},
     "output_type": "execute_result"
    }
   ],
   "source": [
    "#Promotion Used DataFrame\n",
    "promotion_used = promotion_data[promotion_data['promotion_usage'] > 0]\n",
    "promotion_used.head(100)"
   ]
  },
  {
   "cell_type": "code",
   "execution_count": 35,
   "id": "493dbaa9-6d4a-4f08-891d-57aadbb992a5",
   "metadata": {},
   "outputs": [
    {
     "data": {
      "text/plain": [
       "30080"
      ]
     },
     "execution_count": 35,
     "metadata": {},
     "output_type": "execute_result"
    }
   ],
   "source": [
    "len(promotion_used['purchase_frequency'])"
   ]
  },
  {
   "cell_type": "code",
   "execution_count": 36,
   "id": "d9d6dde5-f627-40cd-a048-bff36b7ce016",
   "metadata": {},
   "outputs": [
    {
     "data": {
      "text/plain": [
       "purchase_frequency\n",
       "rare          15066\n",
       "occasional     8988\n",
       "frequent       6026\n",
       "Name: count, dtype: int64"
      ]
     },
     "execution_count": 36,
     "metadata": {},
     "output_type": "execute_result"
    }
   ],
   "source": [
    "promotion_used['purchase_frequency'].value_counts()"
   ]
  },
  {
   "cell_type": "code",
   "execution_count": 37,
   "id": "095dcda1-e97b-4a74-8ed4-2803ea40a55b",
   "metadata": {},
   "outputs": [
    {
     "data": {
      "image/png": "[encoded data removed]",
      "text/plain": [
       "<Figure size 640x480 with 1 Axes>"
      ]
     },
     "metadata": {},
     "output_type": "display_data"
    }
   ],
   "source": [
    "#Promotion Used Visualization\n",
    "promotion_used['purchase_frequency'].value_counts().plot(kind='pie',\n",
    "                                                         autopct='%1.1f%%',\n",
    "                                                         labels=['Rare','Occasional','Frequent'],\n",
    "                                                         explode=[0.01,0.01,0.04],\n",
    "                                                        colors=[\"maroon\",\"#2E5B88\", \"#B9DDF1\"])\n",
    "plt.title('Purchase Frequency With Promotion')\n",
    "plt.ylabel('')\n",
    "plt.savefig(\"resources/Purchase_Frequency_With_Promotion\")\n",
    "plt.show()"
   ]
  },
  {
   "cell_type": "code",
   "execution_count": 38,
   "id": "8bda971b-c7bf-4c4a-844d-6d8b3bbd4e0a",
   "metadata": {},
   "outputs": [
    {
     "data": {
      "text/html": [
       "<div>\n",
       "<style scoped>\n",
       "    .dataframe tbody tr th:only-of-type {\n",
       "        vertical-align: middle;\n",
       "    }\n",
       "\n",
       "    .dataframe tbody tr th {\n",
       "        vertical-align: top;\n",
       "    }\n",
       "\n",
       "    .dataframe thead th {\n",
       "        text-align: right;\n",
       "    }\n",
       "</style>\n",
       "<table border=\"1\" class=\"dataframe\">\n",
       "  <thead>\n",
       "    <tr style=\"text-align: right;\">\n",
       "      <th></th>\n",
       "      <th>id</th>\n",
       "      <th>gender</th>\n",
       "      <th>purchase_frequency</th>\n",
       "      <th>purchase_amount</th>\n",
       "      <th>product_category</th>\n",
       "      <th>promotion_usage</th>\n",
       "    </tr>\n",
       "  </thead>\n",
       "  <tbody>\n",
       "    <tr>\n",
       "      <th>0</th>\n",
       "      <td>1</td>\n",
       "      <td>Male</td>\n",
       "      <td>frequent</td>\n",
       "      <td>18249</td>\n",
       "      <td>Books</td>\n",
       "      <td>0</td>\n",
       "    </tr>\n",
       "    <tr>\n",
       "      <th>2</th>\n",
       "      <td>3</td>\n",
       "      <td>Male</td>\n",
       "      <td>rare</td>\n",
       "      <td>11822</td>\n",
       "      <td>Clothing</td>\n",
       "      <td>0</td>\n",
       "    </tr>\n",
       "    <tr>\n",
       "      <th>3</th>\n",
       "      <td>4</td>\n",
       "      <td>Male</td>\n",
       "      <td>frequent</td>\n",
       "      <td>4098</td>\n",
       "      <td>Food</td>\n",
       "      <td>0</td>\n",
       "    </tr>\n",
       "    <tr>\n",
       "      <th>5</th>\n",
       "      <td>6</td>\n",
       "      <td>Male</td>\n",
       "      <td>occasional</td>\n",
       "      <td>2822</td>\n",
       "      <td>Electronics</td>\n",
       "      <td>0</td>\n",
       "    </tr>\n",
       "    <tr>\n",
       "      <th>6</th>\n",
       "      <td>7</td>\n",
       "      <td>Female</td>\n",
       "      <td>frequent</td>\n",
       "      <td>3293</td>\n",
       "      <td>Clothing</td>\n",
       "      <td>0</td>\n",
       "    </tr>\n",
       "    <tr>\n",
       "      <th>...</th>\n",
       "      <td>...</td>\n",
       "      <td>...</td>\n",
       "      <td>...</td>\n",
       "      <td>...</td>\n",
       "      <td>...</td>\n",
       "      <td>...</td>\n",
       "    </tr>\n",
       "    <tr>\n",
       "      <th>140</th>\n",
       "      <td>141</td>\n",
       "      <td>Male</td>\n",
       "      <td>occasional</td>\n",
       "      <td>6098</td>\n",
       "      <td>Electronics</td>\n",
       "      <td>0</td>\n",
       "    </tr>\n",
       "    <tr>\n",
       "      <th>141</th>\n",
       "      <td>142</td>\n",
       "      <td>Female</td>\n",
       "      <td>rare</td>\n",
       "      <td>13441</td>\n",
       "      <td>Clothing</td>\n",
       "      <td>0</td>\n",
       "    </tr>\n",
       "    <tr>\n",
       "      <th>144</th>\n",
       "      <td>145</td>\n",
       "      <td>Female</td>\n",
       "      <td>rare</td>\n",
       "      <td>11515</td>\n",
       "      <td>Electronics</td>\n",
       "      <td>0</td>\n",
       "    </tr>\n",
       "    <tr>\n",
       "      <th>145</th>\n",
       "      <td>146</td>\n",
       "      <td>Male</td>\n",
       "      <td>rare</td>\n",
       "      <td>13114</td>\n",
       "      <td>Food</td>\n",
       "      <td>0</td>\n",
       "    </tr>\n",
       "    <tr>\n",
       "      <th>146</th>\n",
       "      <td>147</td>\n",
       "      <td>Male</td>\n",
       "      <td>occasional</td>\n",
       "      <td>19674</td>\n",
       "      <td>Food</td>\n",
       "      <td>0</td>\n",
       "    </tr>\n",
       "  </tbody>\n",
       "</table>\n",
       "<p>100 rows × 6 columns</p>\n",
       "</div>"
      ],
      "text/plain": [
       "      id  gender purchase_frequency  purchase_amount product_category  \\\n",
       "0      1    Male           frequent            18249            Books   \n",
       "2      3    Male               rare            11822         Clothing   \n",
       "3      4    Male           frequent             4098             Food   \n",
       "5      6    Male         occasional             2822      Electronics   \n",
       "6      7  Female           frequent             3293         Clothing   \n",
       "..   ...     ...                ...              ...              ...   \n",
       "140  141    Male         occasional             6098      Electronics   \n",
       "141  142  Female               rare            13441         Clothing   \n",
       "144  145  Female               rare            11515      Electronics   \n",
       "145  146    Male               rare            13114             Food   \n",
       "146  147    Male         occasional            19674             Food   \n",
       "\n",
       "     promotion_usage  \n",
       "0                  0  \n",
       "2                  0  \n",
       "3                  0  \n",
       "5                  0  \n",
       "6                  0  \n",
       "..               ...  \n",
       "140                0  \n",
       "141                0  \n",
       "144                0  \n",
       "145                0  \n",
       "146                0  \n",
       "\n",
       "[100 rows x 6 columns]"
      ]
     },
     "execution_count": 38,
     "metadata": {},
     "output_type": "execute_result"
    }
   ],
   "source": [
    "#No Promotion Used DataFrame\n",
    "no_promotion_used = promotion_data[promotion_data['promotion_usage'] < 1]\n",
    "no_promotion_used.head(100)"
   ]
  },
  {
   "cell_type": "code",
   "execution_count": 39,
   "id": "7a56e77a-f739-4ea7-91f2-91b9ceb295bd",
   "metadata": {},
   "outputs": [
    {
     "data": {
      "text/plain": [
       "69920"
      ]
     },
     "execution_count": 39,
     "metadata": {},
     "output_type": "execute_result"
    }
   ],
   "source": [
    "len(no_promotion_used['purchase_frequency'])"
   ]
  },
  {
   "cell_type": "code",
   "execution_count": 62,
   "id": "21f484d2-417f-46e9-93c8-6fdeb02bf63d",
   "metadata": {},
   "outputs": [
    {
     "data": {
      "text/plain": [
       "purchase_frequency\n",
       "rare          34953\n",
       "occasional    20898\n",
       "frequent      14069\n",
       "Name: count, dtype: int64"
      ]
     },
     "execution_count": 62,
     "metadata": {},
     "output_type": "execute_result"
    }
   ],
   "source": [
    "no_promotion_used['purchase_frequency'].value_counts()"
   ]
  },
  {
   "cell_type": "code",
   "execution_count": 68,
   "id": "d1dce787-6900-47d2-bb69-2e0b9803cbc7",
   "metadata": {},
   "outputs": [
    {
     "data": {
      "image/png": "[encoded data removed]",
      "text/plain": [
       "<Figure size 640x480 with 1 Axes>"
      ]
     },
     "metadata": {},
     "output_type": "display_data"
    }
   ],
   "source": [
    "#No Promotion Used Visualizations\n",
    "no_promotion_used['purchase_frequency'].value_counts().plot(kind='pie',\n",
    "                                                         autopct='%1.1f%%',\n",
    "                                                         labels=['Rare','Occasional','Frequent'],\n",
    "                                                         explode=[0.01,0.01,0.04],\n",
    "                                                        colors=[\"maroon\",\"#2E5B88\", \"#B9DDF1\"])\n",
    "plt.title('Purchase Frequency With No Promotion')\n",
    "plt.ylabel('')\n",
    "plt.savefig(\"resources/Purchase_Frequency_With_No_Promotion\")\n",
    "plt.show()"
   ]
  },
  {
   "cell_type": "code",
   "execution_count": 65,
   "id": "60774589-e90b-409e-90f2-cb19f33ab9f5",
   "metadata": {},
   "outputs": [],
   "source": [
    "pu = promotion_used['purchase_amount'].sum()"
   ]
  },
  {
   "cell_type": "code",
   "execution_count": 44,
   "id": "0a574b17-28ba-48a1-bb40-a78516fb2134",
   "metadata": {},
   "outputs": [],
   "source": [
    "npu = no_promotion_used['purchase_amount'].sum()"
   ]
  },
  {
   "cell_type": "code",
   "execution_count": 45,
   "id": "3b7591b6-8858-46a0-a18a-f080c99dc1cc",
   "metadata": {},
   "outputs": [
    {
     "name": "stdout",
     "output_type": "stream",
     "text": [
      "No Promotion Used Spent More\n"
     ]
    }
   ],
   "source": [
    "if npu > pu:\n",
    "    print(\"No Promotion Used Spent More\")\n",
    "else: \n",
    "    print(\"Promotion Used Spent More\")"
   ]
  },
  {
   "cell_type": "markdown",
   "id": "78d0d052-9b9f-49d4-8ca8-9c7b4acdce95",
   "metadata": {},
   "source": [
    "# Analysis\n",
    "***\n",
    "\n",
    "### Despite the use of an incentive such as a promotion it seems to have no effect on purchase frequency.\n",
    "### Based on the data we can see that despite having a promotion, purchase frequency remains almost the same. \n",
    "### This would mean that a promotion alone does not directly result in any change in purchase frequecny."
   ]
  },
  {
   "cell_type": "markdown",
   "id": "4e5c5e4a-9b48-4555-b1db-9e7d070a98cc",
   "metadata": {},
   "source": [
    "***"
   ]
  },
  {
   "cell_type": "markdown",
   "id": "69137031-3523-408b-8db2-df93e2d4aa28",
   "metadata": {},
   "source": [
    "# Question 4 \n",
    "### Research Question: Which region exhibits higher levels of sales?\n",
    "\n",
    "### Hypothesis:\n",
    "\n",
    "### Null Hypothesis: Groups means are equal (no variation in means of groups).\n",
    "\n",
    "### Alternative Hypothesis: At least, one group mean is different from other groups."
   ]
  },
  {
   "cell_type": "code",
   "execution_count": 46,
   "id": "ab654329-f1d4-46a3-9280-05dfb83be42e",
   "metadata": {},
   "outputs": [
    {
     "data": {
      "text/plain": [
       "region\n",
       "East     30074\n",
       "West     29935\n",
       "South    20073\n",
       "North    19918\n",
       "Name: count, dtype: int64"
      ]
     },
     "execution_count": 46,
     "metadata": {},
     "output_type": "execute_result"
    }
   ],
   "source": [
    "#Find total number of purchases in each region\n",
    "df['region'].value_counts()"
   ]
  },
  {
   "cell_type": "code",
   "execution_count": 47,
   "id": "0f448976-e99c-407c-911d-923e64fd6e2e",
   "metadata": {},
   "outputs": [
    {
     "data": {
      "image/png": "[encoded data removed]",
      "text/plain": [
       "<Figure size 640x480 with 1 Axes>"
      ]
     },
     "metadata": {},
     "output_type": "display_data"
    }
   ],
   "source": [
    "# Configure plot, x-tick rotation, title, and axis labels. Save and show the graph\n",
    "\n",
    "df['region'].value_counts().plot(kind='bar')\n",
    "plt.title('Number of purchases by Region')\n",
    "plt.xlabel('Region')\n",
    "plt.ylabel('number of purchases')\n",
    "plt.tight_layout()\n",
    "plt.xticks(rotation=0)\n",
    "plt.savefig(\"resources/Number_of_purchases_by_Region.png\")\n",
    "plt.show()"
   ]
  },
  {
   "cell_type": "code",
   "execution_count": 48,
   "id": "96aed44d-2c54-4f89-b903-3e4a19e3a795",
   "metadata": {},
   "outputs": [
    {
     "data": {
      "text/plain": [
       "region\n",
       "East     289173865\n",
       "North    192674021\n",
       "South    193680103\n",
       "West     287951095\n",
       "Name: purchase_amount, dtype: int64"
      ]
     },
     "execution_count": 48,
     "metadata": {},
     "output_type": "execute_result"
    }
   ],
   "source": [
    "#Get total purchase by region \n",
    "df.groupby(\"region\")[\"purchase_amount\"].sum()"
   ]
  },
  {
   "cell_type": "code",
   "execution_count": 49,
   "id": "627d70cc-bb0b-4f07-a005-f20f0d21493d",
   "metadata": {},
   "outputs": [
    {
     "data": {
      "image/png": "[encoded data removed]",
      "text/plain": [
       "<Figure size 640x480 with 1 Axes>"
      ]
     },
     "metadata": {},
     "output_type": "display_data"
    }
   ],
   "source": [
    "# Configure plot, x-tick rotation, title, and axis labels. Save and show the graph\n",
    "df.groupby('region')['purchase_amount'].sum().plot(kind='bar')\n",
    "plt.title('Total sales by Region')\n",
    "plt.xlabel('Region')\n",
    "plt.ylabel('Total sales')\n",
    "plt.xticks(rotation=0)\n",
    "plt.tight_layout()\n",
    "plt.savefig(\"resources/Total_sales_by_Region.png\")\n",
    "plt.show()"
   ]
  },
  {
   "cell_type": "code",
   "execution_count": 50,
   "id": "d94ad771-9d35-4a07-b91f-5e67a83acf63",
   "metadata": {},
   "outputs": [
    {
     "data": {
      "image/png": "[encoded data removed]",
      "text/plain": [
       "<Figure size 2000x1000 with 1 Axes>"
      ]
     },
     "metadata": {},
     "output_type": "display_data"
    }
   ],
   "source": [
    "# Create a boxplot to compare means\n",
    "df.boxplot(\"purchase_amount\", by=\"region\", figsize=(20, 10))\n",
    "plt.savefig(\"resources/Purchase amount boxplot\")"
   ]
  },
  {
   "cell_type": "code",
   "execution_count": 51,
   "id": "0dfa7286-d6de-4aca-bfc4-efc483b86b7e",
   "metadata": {},
   "outputs": [
    {
     "data": {
      "text/plain": [
       "F_onewayResult(statistic=0.009373702611209948, pvalue=0.922871344817896)"
      ]
     },
     "execution_count": 51,
     "metadata": {},
     "output_type": "execute_result"
    }
   ],
   "source": [
    "# Extract individual groups\n",
    "group0 = df[df[\"region\"] == 'East'][\"purchase_amount\"]\n",
    "group1 = df[df[\"region\"] == 'North'][\"purchase_amount\"]\n",
    "group1 = df[df[\"region\"] == 'South'][\"purchase_amount\"]\n",
    "group1 = df[df[\"region\"] == 'West'][\"purchase_amount\"]\n",
    "# Perform the ANOVA\n",
    "stats.f_oneway(group0, group1)"
   ]
  },
  {
   "cell_type": "markdown",
   "id": "685b3d6d-da22-46d6-9ec4-0909c05870a6",
   "metadata": {},
   "source": [
    "# Question 5 \n",
    "***\n",
    "\n",
    "### Research Question: Is there any correlation between customer income and purchase amount?\n",
    "\n",
    "### Hypothesis:\n",
    "\n",
    "### Null Hypothesis:\n",
    "\n",
    "### Alternative Hypothesis:"
   ]
  },
  {
   "cell_type": "code",
   "execution_count": 52,
   "id": "3a3bed63-0c32-4436-8682-8316c3e28ee8",
   "metadata": {},
   "outputs": [
    {
     "data": {
      "text/plain": [
       "0        18249\n",
       "1         4557\n",
       "2        11822\n",
       "3         4098\n",
       "4        19685\n",
       "         ...  \n",
       "99995     7075\n",
       "99996     6873\n",
       "99997     5152\n",
       "99998    16312\n",
       "99999     9426\n",
       "Name: purchase_amount, Length: 100000, dtype: int64"
      ]
     },
     "execution_count": 52,
     "metadata": {},
     "output_type": "execute_result"
    }
   ],
   "source": [
    "customer_purchase_amount = df[\"purchase_amount\"]\n",
    "customer_purchase_amount"
   ]
  },
  {
   "cell_type": "code",
   "execution_count": 53,
   "id": "eae73819-5d29-4810-b0c9-3ef68066d851",
   "metadata": {},
   "outputs": [
    {
     "data": {
      "text/plain": [
       "0         East\n",
       "1         West\n",
       "2         West\n",
       "3        South\n",
       "4        North\n",
       "         ...  \n",
       "99995     West\n",
       "99996    South\n",
       "99997     West\n",
       "99998     West\n",
       "99999     West\n",
       "Name: region, Length: 100000, dtype: object"
      ]
     },
     "execution_count": 53,
     "metadata": {},
     "output_type": "execute_result"
    }
   ],
   "source": [
    "customer_region = df[\"region\"]\n",
    "customer_region"
   ]
  },
  {
   "cell_type": "code",
   "execution_count": 54,
   "id": "a82c3ef8-cafe-4d16-a48e-f34219ec47bf",
   "metadata": {},
   "outputs": [],
   "source": [
    "customer_id=df[\"id\"]"
   ]
  },
  {
   "cell_type": "code",
   "execution_count": 55,
   "id": "c7c3be22-8ae3-4431-bbd4-9db56825caf7",
   "metadata": {},
   "outputs": [
    {
     "data": {
      "text/html": [
       "<div>\n",
       "<style scoped>\n",
       "    .dataframe tbody tr th:only-of-type {\n",
       "        vertical-align: middle;\n",
       "    }\n",
       "\n",
       "    .dataframe tbody tr th {\n",
       "        vertical-align: top;\n",
       "    }\n",
       "\n",
       "    .dataframe thead th {\n",
       "        text-align: right;\n",
       "    }\n",
       "</style>\n",
       "<table border=\"1\" class=\"dataframe\">\n",
       "  <thead>\n",
       "    <tr style=\"text-align: right;\">\n",
       "      <th></th>\n",
       "      <th>age</th>\n",
       "      <th>id</th>\n",
       "      <th>purchase_amount</th>\n",
       "    </tr>\n",
       "  </thead>\n",
       "  <tbody>\n",
       "    <tr>\n",
       "      <th>0</th>\n",
       "      <td>27</td>\n",
       "      <td>1</td>\n",
       "      <td>18249</td>\n",
       "    </tr>\n",
       "    <tr>\n",
       "      <th>1</th>\n",
       "      <td>29</td>\n",
       "      <td>2</td>\n",
       "      <td>4557</td>\n",
       "    </tr>\n",
       "    <tr>\n",
       "      <th>2</th>\n",
       "      <td>37</td>\n",
       "      <td>3</td>\n",
       "      <td>11822</td>\n",
       "    </tr>\n",
       "    <tr>\n",
       "      <th>3</th>\n",
       "      <td>30</td>\n",
       "      <td>4</td>\n",
       "      <td>4098</td>\n",
       "    </tr>\n",
       "    <tr>\n",
       "      <th>4</th>\n",
       "      <td>31</td>\n",
       "      <td>5</td>\n",
       "      <td>19685</td>\n",
       "    </tr>\n",
       "    <tr>\n",
       "      <th>...</th>\n",
       "      <td>...</td>\n",
       "      <td>...</td>\n",
       "      <td>...</td>\n",
       "    </tr>\n",
       "    <tr>\n",
       "      <th>99995</th>\n",
       "      <td>31</td>\n",
       "      <td>99996</td>\n",
       "      <td>7075</td>\n",
       "    </tr>\n",
       "    <tr>\n",
       "      <th>99996</th>\n",
       "      <td>36</td>\n",
       "      <td>99997</td>\n",
       "      <td>6873</td>\n",
       "    </tr>\n",
       "    <tr>\n",
       "      <th>99997</th>\n",
       "      <td>29</td>\n",
       "      <td>99998</td>\n",
       "      <td>5152</td>\n",
       "    </tr>\n",
       "    <tr>\n",
       "      <th>99998</th>\n",
       "      <td>31</td>\n",
       "      <td>99999</td>\n",
       "      <td>16312</td>\n",
       "    </tr>\n",
       "    <tr>\n",
       "      <th>99999</th>\n",
       "      <td>35</td>\n",
       "      <td>100000</td>\n",
       "      <td>9426</td>\n",
       "    </tr>\n",
       "  </tbody>\n",
       "</table>\n",
       "<p>100000 rows × 3 columns</p>\n",
       "</div>"
      ],
      "text/plain": [
       "       age      id  purchase_amount\n",
       "0       27       1            18249\n",
       "1       29       2             4557\n",
       "2       37       3            11822\n",
       "3       30       4             4098\n",
       "4       31       5            19685\n",
       "...    ...     ...              ...\n",
       "99995   31   99996             7075\n",
       "99996   36   99997             6873\n",
       "99997   29   99998             5152\n",
       "99998   31   99999            16312\n",
       "99999   35  100000             9426\n",
       "\n",
       "[100000 rows x 3 columns]"
      ]
     },
     "execution_count": 55,
     "metadata": {},
     "output_type": "execute_result"
    }
   ],
   "source": [
    "customer_age = df[\"age\"]\n",
    "customer_age = pd.DataFrame(customer_age)\n",
    "\n",
    "customer_age = pd.concat([customer_age, customer_id, customer_purchase_amount], axis=1, ignore_index=True) \n",
    "customer_age = customer_age.rename(columns={0:\"age\",1:\"id\",2:\"purchase_amount\"})\n",
    "customer_age"
   ]
  },
  {
   "cell_type": "code",
   "execution_count": 56,
   "id": "acb53a53-5802-410f-81f6-a36fad895367",
   "metadata": {},
   "outputs": [
    {
     "data": {
      "text/html": [
       "<div>\n",
       "<style scoped>\n",
       "    .dataframe tbody tr th:only-of-type {\n",
       "        vertical-align: middle;\n",
       "    }\n",
       "\n",
       "    .dataframe tbody tr th {\n",
       "        vertical-align: top;\n",
       "    }\n",
       "\n",
       "    .dataframe thead th {\n",
       "        text-align: right;\n",
       "    }\n",
       "</style>\n",
       "<table border=\"1\" class=\"dataframe\">\n",
       "  <thead>\n",
       "    <tr style=\"text-align: right;\">\n",
       "      <th></th>\n",
       "      <th>income</th>\n",
       "      <th>purchase_amount</th>\n",
       "    </tr>\n",
       "  </thead>\n",
       "  <tbody>\n",
       "    <tr>\n",
       "      <th>0</th>\n",
       "      <td>40682</td>\n",
       "      <td>18249</td>\n",
       "    </tr>\n",
       "    <tr>\n",
       "      <th>1</th>\n",
       "      <td>15317</td>\n",
       "      <td>4557</td>\n",
       "    </tr>\n",
       "    <tr>\n",
       "      <th>2</th>\n",
       "      <td>38849</td>\n",
       "      <td>11822</td>\n",
       "    </tr>\n",
       "    <tr>\n",
       "      <th>3</th>\n",
       "      <td>11568</td>\n",
       "      <td>4098</td>\n",
       "    </tr>\n",
       "    <tr>\n",
       "      <th>4</th>\n",
       "      <td>46952</td>\n",
       "      <td>19685</td>\n",
       "    </tr>\n",
       "    <tr>\n",
       "      <th>...</th>\n",
       "      <td>...</td>\n",
       "      <td>...</td>\n",
       "    </tr>\n",
       "    <tr>\n",
       "      <th>99995</th>\n",
       "      <td>19691</td>\n",
       "      <td>7075</td>\n",
       "    </tr>\n",
       "    <tr>\n",
       "      <th>99996</th>\n",
       "      <td>17428</td>\n",
       "      <td>6873</td>\n",
       "    </tr>\n",
       "    <tr>\n",
       "      <th>99997</th>\n",
       "      <td>13222</td>\n",
       "      <td>5152</td>\n",
       "    </tr>\n",
       "    <tr>\n",
       "      <th>99998</th>\n",
       "      <td>40093</td>\n",
       "      <td>16312</td>\n",
       "    </tr>\n",
       "    <tr>\n",
       "      <th>99999</th>\n",
       "      <td>22249</td>\n",
       "      <td>9426</td>\n",
       "    </tr>\n",
       "  </tbody>\n",
       "</table>\n",
       "<p>100000 rows × 2 columns</p>\n",
       "</div>"
      ],
      "text/plain": [
       "       income  purchase_amount\n",
       "0       40682            18249\n",
       "1       15317             4557\n",
       "2       38849            11822\n",
       "3       11568             4098\n",
       "4       46952            19685\n",
       "...       ...              ...\n",
       "99995   19691             7075\n",
       "99996   17428             6873\n",
       "99997   13222             5152\n",
       "99998   40093            16312\n",
       "99999   22249             9426\n",
       "\n",
       "[100000 rows x 2 columns]"
      ]
     },
     "execution_count": 56,
     "metadata": {},
     "output_type": "execute_result"
    }
   ],
   "source": [
    "customer_income_purchase = df[[\"income\", \"purchase_amount\"]]\n",
    "customer_income_purchase"
   ]
  },
  {
   "cell_type": "code",
   "execution_count": 57,
   "id": "b47514cc-f709-4c1c-882b-093beda23eff",
   "metadata": {},
   "outputs": [
    {
     "name": "stdout",
     "output_type": "stream",
     "text": [
      "Index(['income', 'purchase_amount'], dtype='object')\n"
     ]
    }
   ],
   "source": [
    "print(customer_income_purchase.columns)"
   ]
  },
  {
   "cell_type": "code",
   "execution_count": 58,
   "id": "70433779-0df7-4ce7-84b1-30a37688d127",
   "metadata": {},
   "outputs": [],
   "source": [
    "x_values = customer_income_purchase[\"income\"]\n",
    "y_values = customer_income_purchase[\"purchase_amount\"]"
   ]
  },
  {
   "cell_type": "code",
   "execution_count": 59,
   "id": "a0230b47-3122-4a04-83e9-52f1f1c45e5b",
   "metadata": {},
   "outputs": [
    {
     "data": {
      "text/plain": [
       "(100000,)"
      ]
     },
     "execution_count": 59,
     "metadata": {},
     "output_type": "execute_result"
    }
   ],
   "source": [
    "x_values.shape"
   ]
  },
  {
   "cell_type": "code",
   "execution_count": 60,
   "id": "20f39d4d-ad9b-413f-a7b7-1b171930d21c",
   "metadata": {},
   "outputs": [
    {
     "data": {
      "image/png": "[encoded data removed]",
      "text/plain": [
       "<Figure size 640x480 with 1 Axes>"
      ]
     },
     "metadata": {},
     "output_type": "display_data"
    }
   ],
   "source": [
    "def create_scatter(df,x, y,xl,yla, coords = (0,0)):\n",
    "    x_values = df[x]\n",
    "    y_values = df[y]\n",
    "    (slope, intercept, rvalue, pvalue, stderr) = linregress(x_values, y_values)\n",
    "    regress_values = x_values * slope + intercept\n",
    "    line_eq = \"y = \" + str(round(slope,2)) + \"x + \" + str(round(intercept,2))\n",
    "    plt.scatter(x_values, y_values)\n",
    "    plt.plot(x_values,regress_values,\"r-\")\n",
    "    plt.annotate(line_eq,coords,fontsize=15,color=\"red\")\n",
    "    plt.xlabel(xl)\n",
    "    plt.ylabel(yla)\n",
    "    plt.savefig(\"resources/Customer_income_purchase\")\n",
    "    plt.show()\n",
    "\n",
    "create_scatter(customer_income_purchase, \"income\", \"purchase_amount\",\"income\",\"purchase amount\", (5000,25000))"
   ]
  },
  {
   "cell_type": "code",
   "execution_count": 61,
   "id": "a383525a-0643-4023-b51b-f5404ba7d954",
   "metadata": {},
   "outputs": [
    {
     "ename": "KeyError",
     "evalue": "'income spent(%)'",
     "output_type": "error",
     "traceback": [
      "\u001b[0;31m---------------------------------------------------------------------------\u001b[0m",
      "\u001b[0;31mKeyError\u001b[0m                                  Traceback (most recent call last)",
      "File \u001b[0;32m/opt/anaconda3/lib/python3.11/site-packages/pandas/core/indexes/base.py:3791\u001b[0m, in \u001b[0;36mIndex.get_loc\u001b[0;34m(self, key)\u001b[0m\n\u001b[1;32m   3790\u001b[0m \u001b[38;5;28;01mtry\u001b[39;00m:\n\u001b[0;32m-> 3791\u001b[0m     \u001b[38;5;28;01mreturn\u001b[39;00m \u001b[38;5;28mself\u001b[39m\u001b[38;5;241m.\u001b[39m_engine\u001b[38;5;241m.\u001b[39mget_loc(casted_key)\n\u001b[1;32m   3792\u001b[0m \u001b[38;5;28;01mexcept\u001b[39;00m \u001b[38;5;167;01mKeyError\u001b[39;00m \u001b[38;5;28;01mas\u001b[39;00m err:\n",
      "File \u001b[0;32mindex.pyx:152\u001b[0m, in \u001b[0;36mpandas._libs.index.IndexEngine.get_loc\u001b[0;34m()\u001b[0m\n",
      "File \u001b[0;32mindex.pyx:181\u001b[0m, in \u001b[0;36mpandas._libs.index.IndexEngine.get_loc\u001b[0;34m()\u001b[0m\n",
      "File \u001b[0;32mpandas/_libs/hashtable_class_helper.pxi:7080\u001b[0m, in \u001b[0;36mpandas._libs.hashtable.PyObjectHashTable.get_item\u001b[0;34m()\u001b[0m\n",
      "File \u001b[0;32mpandas/_libs/hashtable_class_helper.pxi:7088\u001b[0m, in \u001b[0;36mpandas._libs.hashtable.PyObjectHashTable.get_item\u001b[0;34m()\u001b[0m\n",
      "\u001b[0;31mKeyError\u001b[0m: 'income spent(%)'",
      "\nThe above exception was the direct cause of the following exception:\n",
      "\u001b[0;31mKeyError\u001b[0m                                  Traceback (most recent call last)",
      "Cell \u001b[0;32mIn[61], line 1\u001b[0m\n\u001b[0;32m----> 1\u001b[0m df[\u001b[38;5;124m\"\u001b[39m\u001b[38;5;124mincome spent(\u001b[39m\u001b[38;5;124m%\u001b[39m\u001b[38;5;124m)\u001b[39m\u001b[38;5;124m\"\u001b[39m]\n",
      "File \u001b[0;32m/opt/anaconda3/lib/python3.11/site-packages/pandas/core/frame.py:3893\u001b[0m, in \u001b[0;36mDataFrame.__getitem__\u001b[0;34m(self, key)\u001b[0m\n\u001b[1;32m   3891\u001b[0m \u001b[38;5;28;01mif\u001b[39;00m \u001b[38;5;28mself\u001b[39m\u001b[38;5;241m.\u001b[39mcolumns\u001b[38;5;241m.\u001b[39mnlevels \u001b[38;5;241m>\u001b[39m \u001b[38;5;241m1\u001b[39m:\n\u001b[1;32m   3892\u001b[0m     \u001b[38;5;28;01mreturn\u001b[39;00m \u001b[38;5;28mself\u001b[39m\u001b[38;5;241m.\u001b[39m_getitem_multilevel(key)\n\u001b[0;32m-> 3893\u001b[0m indexer \u001b[38;5;241m=\u001b[39m \u001b[38;5;28mself\u001b[39m\u001b[38;5;241m.\u001b[39mcolumns\u001b[38;5;241m.\u001b[39mget_loc(key)\n\u001b[1;32m   3894\u001b[0m \u001b[38;5;28;01mif\u001b[39;00m is_integer(indexer):\n\u001b[1;32m   3895\u001b[0m     indexer \u001b[38;5;241m=\u001b[39m [indexer]\n",
      "File \u001b[0;32m/opt/anaconda3/lib/python3.11/site-packages/pandas/core/indexes/base.py:3798\u001b[0m, in \u001b[0;36mIndex.get_loc\u001b[0;34m(self, key)\u001b[0m\n\u001b[1;32m   3793\u001b[0m     \u001b[38;5;28;01mif\u001b[39;00m \u001b[38;5;28misinstance\u001b[39m(casted_key, \u001b[38;5;28mslice\u001b[39m) \u001b[38;5;129;01mor\u001b[39;00m (\n\u001b[1;32m   3794\u001b[0m         \u001b[38;5;28misinstance\u001b[39m(casted_key, abc\u001b[38;5;241m.\u001b[39mIterable)\n\u001b[1;32m   3795\u001b[0m         \u001b[38;5;129;01mand\u001b[39;00m \u001b[38;5;28many\u001b[39m(\u001b[38;5;28misinstance\u001b[39m(x, \u001b[38;5;28mslice\u001b[39m) \u001b[38;5;28;01mfor\u001b[39;00m x \u001b[38;5;129;01min\u001b[39;00m casted_key)\n\u001b[1;32m   3796\u001b[0m     ):\n\u001b[1;32m   3797\u001b[0m         \u001b[38;5;28;01mraise\u001b[39;00m InvalidIndexError(key)\n\u001b[0;32m-> 3798\u001b[0m     \u001b[38;5;28;01mraise\u001b[39;00m \u001b[38;5;167;01mKeyError\u001b[39;00m(key) \u001b[38;5;28;01mfrom\u001b[39;00m \u001b[38;5;21;01merr\u001b[39;00m\n\u001b[1;32m   3799\u001b[0m \u001b[38;5;28;01mexcept\u001b[39;00m \u001b[38;5;167;01mTypeError\u001b[39;00m:\n\u001b[1;32m   3800\u001b[0m     \u001b[38;5;66;03m# If we have a listlike key, _check_indexing_error will raise\u001b[39;00m\n\u001b[1;32m   3801\u001b[0m     \u001b[38;5;66;03m#  InvalidIndexError. Otherwise we fall through and re-raise\u001b[39;00m\n\u001b[1;32m   3802\u001b[0m     \u001b[38;5;66;03m#  the TypeError.\u001b[39;00m\n\u001b[1;32m   3803\u001b[0m     \u001b[38;5;28mself\u001b[39m\u001b[38;5;241m.\u001b[39m_check_indexing_error(key)\n",
      "\u001b[0;31mKeyError\u001b[0m: 'income spent(%)'"
     ]
    }
   ],
   "source": [
    "df[\"income spent(%)\"]"
   ]
  },
  {
   "cell_type": "code",
   "execution_count": null,
   "id": "15ada9b7-4e9c-4147-8cc8-5cc32f737a89",
   "metadata": {},
   "outputs": [],
   "source": [
    "df[\"income spent(%)\"]=(df[\"purchase_amount\"]/df[\"income\"])*100\n",
    "create_scatter(df,\"income\",\"income spent(%)\",\"income\",\"income spend %\")\n",
    "plt.savefig(\"resources/income_spent\")"
   ]
  },
  {
   "cell_type": "markdown",
   "id": "800d9a23-6746-45a2-ba36-beabb2936198",
   "metadata": {},
   "source": [
    "# Analysis\n",
    "***\n",
    "\n",
    "## Is there correlation between income and purchase amount?\n",
    "### Yes there is positive correlation in the data, as customer income increases purchase amounts also increase, there are no outliers.\n",
    "## Is there correlation between income and income spend %?\n",
    "### No there is no correlation in the data, customer income does not have an affect on what percent of their income they spend."
   ]
  },
  {
   "cell_type": "markdown",
   "id": "4159966c-b930-4d49-8352-605a984c6ad4",
   "metadata": {},
   "source": []
  },
  {
   "cell_type": "code",
   "execution_count": null,
   "id": "8eaa9bbd-f011-45fe-b96a-5cd9244994eb",
   "metadata": {},
   "outputs": [],
   "source": []
  }
 ],
 "metadata": {
  "kernelspec": {
   "display_name": "Python 3 (ipykernel)",
   "language": "python",
   "name": "python3"
  },
  "language_info": {
   "codemirror_mode": {
    "name": "ipython",
    "version": 3
   },
   "file_extension": ".py",
   "mimetype": "text/x-python",
   "name": "python",
   "nbconvert_exporter": "python",
   "pygments_lexer": "ipython3",
   "version": "3.11.7"
  }
 },
 "nbformat": 4,
 "nbformat_minor": 5
}
