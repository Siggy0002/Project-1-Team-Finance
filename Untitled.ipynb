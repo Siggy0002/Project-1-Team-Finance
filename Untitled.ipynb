{
 "cells": [
  {
   "cell_type": "code",
   "execution_count": 25,
   "id": "b48d20f5-e6a0-4d1e-a61f-231d382a53a0",
   "metadata": {},
   "outputs": [],
   "source": [
    "import pandas as pd\n",
    "import numpy as np\n",
    "from matplotlib import pyplot as plt\n",
    "import seaborn as sns\n",
    "from scipy.stats import linregress"
   ]
  },
  {
   "cell_type": "code",
   "execution_count": 2,
   "id": "51cce326-90fe-459c-bb30-10ed89cf000d",
   "metadata": {},
   "outputs": [
    {
     "data": {
      "text/html": [
       "<div>\n",
       "<style scoped>\n",
       "    .dataframe tbody tr th:only-of-type {\n",
       "        vertical-align: middle;\n",
       "    }\n",
       "\n",
       "    .dataframe tbody tr th {\n",
       "        vertical-align: top;\n",
       "    }\n",
       "\n",
       "    .dataframe thead th {\n",
       "        text-align: right;\n",
       "    }\n",
       "</style>\n",
       "<table border=\"1\" class=\"dataframe\">\n",
       "  <thead>\n",
       "    <tr style=\"text-align: right;\">\n",
       "      <th></th>\n",
       "      <th>id</th>\n",
       "      <th>age</th>\n",
       "      <th>gender</th>\n",
       "      <th>income</th>\n",
       "      <th>education</th>\n",
       "      <th>region</th>\n",
       "      <th>loyalty_status</th>\n",
       "      <th>purchase_frequency</th>\n",
       "      <th>purchase_amount</th>\n",
       "      <th>product_category</th>\n",
       "      <th>promotion_usage</th>\n",
       "      <th>satisfaction_score</th>\n",
       "    </tr>\n",
       "  </thead>\n",
       "  <tbody>\n",
       "    <tr>\n",
       "      <th>0</th>\n",
       "      <td>1</td>\n",
       "      <td>27</td>\n",
       "      <td>Male</td>\n",
       "      <td>40682</td>\n",
       "      <td>Bachelor</td>\n",
       "      <td>East</td>\n",
       "      <td>Gold</td>\n",
       "      <td>frequent</td>\n",
       "      <td>18249</td>\n",
       "      <td>Books</td>\n",
       "      <td>0</td>\n",
       "      <td>6</td>\n",
       "    </tr>\n",
       "    <tr>\n",
       "      <th>1</th>\n",
       "      <td>2</td>\n",
       "      <td>29</td>\n",
       "      <td>Male</td>\n",
       "      <td>15317</td>\n",
       "      <td>Masters</td>\n",
       "      <td>West</td>\n",
       "      <td>Regular</td>\n",
       "      <td>rare</td>\n",
       "      <td>4557</td>\n",
       "      <td>Clothing</td>\n",
       "      <td>1</td>\n",
       "      <td>6</td>\n",
       "    </tr>\n",
       "    <tr>\n",
       "      <th>2</th>\n",
       "      <td>3</td>\n",
       "      <td>37</td>\n",
       "      <td>Male</td>\n",
       "      <td>38849</td>\n",
       "      <td>Bachelor</td>\n",
       "      <td>West</td>\n",
       "      <td>Silver</td>\n",
       "      <td>rare</td>\n",
       "      <td>11822</td>\n",
       "      <td>Clothing</td>\n",
       "      <td>0</td>\n",
       "      <td>6</td>\n",
       "    </tr>\n",
       "    <tr>\n",
       "      <th>3</th>\n",
       "      <td>4</td>\n",
       "      <td>30</td>\n",
       "      <td>Male</td>\n",
       "      <td>11568</td>\n",
       "      <td>HighSchool</td>\n",
       "      <td>South</td>\n",
       "      <td>Regular</td>\n",
       "      <td>frequent</td>\n",
       "      <td>4098</td>\n",
       "      <td>Food</td>\n",
       "      <td>0</td>\n",
       "      <td>7</td>\n",
       "    </tr>\n",
       "    <tr>\n",
       "      <th>4</th>\n",
       "      <td>5</td>\n",
       "      <td>31</td>\n",
       "      <td>Female</td>\n",
       "      <td>46952</td>\n",
       "      <td>College</td>\n",
       "      <td>North</td>\n",
       "      <td>Regular</td>\n",
       "      <td>occasional</td>\n",
       "      <td>19685</td>\n",
       "      <td>Clothing</td>\n",
       "      <td>1</td>\n",
       "      <td>5</td>\n",
       "    </tr>\n",
       "    <tr>\n",
       "      <th>...</th>\n",
       "      <td>...</td>\n",
       "      <td>...</td>\n",
       "      <td>...</td>\n",
       "      <td>...</td>\n",
       "      <td>...</td>\n",
       "      <td>...</td>\n",
       "      <td>...</td>\n",
       "      <td>...</td>\n",
       "      <td>...</td>\n",
       "      <td>...</td>\n",
       "      <td>...</td>\n",
       "      <td>...</td>\n",
       "    </tr>\n",
       "    <tr>\n",
       "      <th>99995</th>\n",
       "      <td>99996</td>\n",
       "      <td>31</td>\n",
       "      <td>Female</td>\n",
       "      <td>19691</td>\n",
       "      <td>College</td>\n",
       "      <td>West</td>\n",
       "      <td>Regular</td>\n",
       "      <td>occasional</td>\n",
       "      <td>7075</td>\n",
       "      <td>Health</td>\n",
       "      <td>0</td>\n",
       "      <td>7</td>\n",
       "    </tr>\n",
       "    <tr>\n",
       "      <th>99996</th>\n",
       "      <td>99997</td>\n",
       "      <td>36</td>\n",
       "      <td>Male</td>\n",
       "      <td>17428</td>\n",
       "      <td>HighSchool</td>\n",
       "      <td>South</td>\n",
       "      <td>Regular</td>\n",
       "      <td>rare</td>\n",
       "      <td>6873</td>\n",
       "      <td>Health</td>\n",
       "      <td>0</td>\n",
       "      <td>5</td>\n",
       "    </tr>\n",
       "    <tr>\n",
       "      <th>99997</th>\n",
       "      <td>99998</td>\n",
       "      <td>29</td>\n",
       "      <td>Male</td>\n",
       "      <td>13222</td>\n",
       "      <td>College</td>\n",
       "      <td>West</td>\n",
       "      <td>Regular</td>\n",
       "      <td>frequent</td>\n",
       "      <td>5152</td>\n",
       "      <td>Clothing</td>\n",
       "      <td>0</td>\n",
       "      <td>5</td>\n",
       "    </tr>\n",
       "    <tr>\n",
       "      <th>99998</th>\n",
       "      <td>99999</td>\n",
       "      <td>31</td>\n",
       "      <td>Female</td>\n",
       "      <td>40093</td>\n",
       "      <td>Bachelor</td>\n",
       "      <td>West</td>\n",
       "      <td>Regular</td>\n",
       "      <td>frequent</td>\n",
       "      <td>16312</td>\n",
       "      <td>Health</td>\n",
       "      <td>1</td>\n",
       "      <td>5</td>\n",
       "    </tr>\n",
       "    <tr>\n",
       "      <th>99999</th>\n",
       "      <td>100000</td>\n",
       "      <td>35</td>\n",
       "      <td>Female</td>\n",
       "      <td>22249</td>\n",
       "      <td>College</td>\n",
       "      <td>West</td>\n",
       "      <td>Silver</td>\n",
       "      <td>rare</td>\n",
       "      <td>9426</td>\n",
       "      <td>Health</td>\n",
       "      <td>0</td>\n",
       "      <td>6</td>\n",
       "    </tr>\n",
       "  </tbody>\n",
       "</table>\n",
       "<p>100000 rows × 12 columns</p>\n",
       "</div>"
      ],
      "text/plain": [
       "           id  age  gender  income   education region loyalty_status  \\\n",
       "0           1   27    Male   40682    Bachelor   East           Gold   \n",
       "1           2   29    Male   15317     Masters   West        Regular   \n",
       "2           3   37    Male   38849    Bachelor   West         Silver   \n",
       "3           4   30    Male   11568  HighSchool  South        Regular   \n",
       "4           5   31  Female   46952     College  North        Regular   \n",
       "...       ...  ...     ...     ...         ...    ...            ...   \n",
       "99995   99996   31  Female   19691     College   West        Regular   \n",
       "99996   99997   36    Male   17428  HighSchool  South        Regular   \n",
       "99997   99998   29    Male   13222     College   West        Regular   \n",
       "99998   99999   31  Female   40093    Bachelor   West        Regular   \n",
       "99999  100000   35  Female   22249     College   West         Silver   \n",
       "\n",
       "      purchase_frequency  purchase_amount product_category  promotion_usage  \\\n",
       "0               frequent            18249            Books                0   \n",
       "1                   rare             4557         Clothing                1   \n",
       "2                   rare            11822         Clothing                0   \n",
       "3               frequent             4098             Food                0   \n",
       "4             occasional            19685         Clothing                1   \n",
       "...                  ...              ...              ...              ...   \n",
       "99995         occasional             7075           Health                0   \n",
       "99996               rare             6873           Health                0   \n",
       "99997           frequent             5152         Clothing                0   \n",
       "99998           frequent            16312           Health                1   \n",
       "99999               rare             9426           Health                0   \n",
       "\n",
       "       satisfaction_score  \n",
       "0                       6  \n",
       "1                       6  \n",
       "2                       6  \n",
       "3                       7  \n",
       "4                       5  \n",
       "...                   ...  \n",
       "99995                   7  \n",
       "99996                   5  \n",
       "99997                   5  \n",
       "99998                   5  \n",
       "99999                   6  \n",
       "\n",
       "[100000 rows x 12 columns]"
      ]
     },
     "execution_count": 2,
     "metadata": {},
     "output_type": "execute_result"
    }
   ],
   "source": [
    "customer_df=pd.read_csv(\"resources/customer_data.csv\")\n",
    "customer_df"
   ]
  },
  {
   "cell_type": "code",
   "execution_count": 3,
   "id": "72ca9719-ddbf-403d-a1d3-2c17a1826a64",
   "metadata": {},
   "outputs": [
    {
     "data": {
      "text/plain": [
       "0        18249\n",
       "1         4557\n",
       "2        11822\n",
       "3         4098\n",
       "4        19685\n",
       "         ...  \n",
       "99995     7075\n",
       "99996     6873\n",
       "99997     5152\n",
       "99998    16312\n",
       "99999     9426\n",
       "Name: purchase_amount, Length: 100000, dtype: int64"
      ]
     },
     "execution_count": 3,
     "metadata": {},
     "output_type": "execute_result"
    }
   ],
   "source": [
    "customer_purchase_amount = customer_df[\"purchase_amount\"]\n",
    "customer_purchase_amount"
   ]
  },
  {
   "cell_type": "code",
   "execution_count": 4,
   "id": "c11f9845-5f7f-4c73-9419-5647e02cc90a",
   "metadata": {},
   "outputs": [
    {
     "data": {
      "text/plain": [
       "0         East\n",
       "1         West\n",
       "2         West\n",
       "3        South\n",
       "4        North\n",
       "         ...  \n",
       "99995     West\n",
       "99996    South\n",
       "99997     West\n",
       "99998     West\n",
       "99999     West\n",
       "Name: region, Length: 100000, dtype: object"
      ]
     },
     "execution_count": 4,
     "metadata": {},
     "output_type": "execute_result"
    }
   ],
   "source": [
    "customer_region = customer_df[\"region\"]\n",
    "customer_region"
   ]
  },
  {
   "cell_type": "code",
   "execution_count": 6,
   "id": "e640e342-b9ff-4797-abe1-9a59113aa3a1",
   "metadata": {},
   "outputs": [],
   "source": [
    "customer_id=customer_df[\"id\"]"
   ]
  },
  {
   "cell_type": "code",
   "execution_count": 7,
   "id": "af7b6a7b-16c4-41f6-9ae9-6fb6e3c603ad",
   "metadata": {},
   "outputs": [
    {
     "data": {
      "text/html": [
       "<div>\n",
       "<style scoped>\n",
       "    .dataframe tbody tr th:only-of-type {\n",
       "        vertical-align: middle;\n",
       "    }\n",
       "\n",
       "    .dataframe tbody tr th {\n",
       "        vertical-align: top;\n",
       "    }\n",
       "\n",
       "    .dataframe thead th {\n",
       "        text-align: right;\n",
       "    }\n",
       "</style>\n",
       "<table border=\"1\" class=\"dataframe\">\n",
       "  <thead>\n",
       "    <tr style=\"text-align: right;\">\n",
       "      <th></th>\n",
       "      <th>age</th>\n",
       "      <th>id</th>\n",
       "      <th>purchase_amount</th>\n",
       "    </tr>\n",
       "  </thead>\n",
       "  <tbody>\n",
       "    <tr>\n",
       "      <th>0</th>\n",
       "      <td>27</td>\n",
       "      <td>1</td>\n",
       "      <td>18249</td>\n",
       "    </tr>\n",
       "    <tr>\n",
       "      <th>1</th>\n",
       "      <td>29</td>\n",
       "      <td>2</td>\n",
       "      <td>4557</td>\n",
       "    </tr>\n",
       "    <tr>\n",
       "      <th>2</th>\n",
       "      <td>37</td>\n",
       "      <td>3</td>\n",
       "      <td>11822</td>\n",
       "    </tr>\n",
       "    <tr>\n",
       "      <th>3</th>\n",
       "      <td>30</td>\n",
       "      <td>4</td>\n",
       "      <td>4098</td>\n",
       "    </tr>\n",
       "    <tr>\n",
       "      <th>4</th>\n",
       "      <td>31</td>\n",
       "      <td>5</td>\n",
       "      <td>19685</td>\n",
       "    </tr>\n",
       "    <tr>\n",
       "      <th>...</th>\n",
       "      <td>...</td>\n",
       "      <td>...</td>\n",
       "      <td>...</td>\n",
       "    </tr>\n",
       "    <tr>\n",
       "      <th>99995</th>\n",
       "      <td>31</td>\n",
       "      <td>99996</td>\n",
       "      <td>7075</td>\n",
       "    </tr>\n",
       "    <tr>\n",
       "      <th>99996</th>\n",
       "      <td>36</td>\n",
       "      <td>99997</td>\n",
       "      <td>6873</td>\n",
       "    </tr>\n",
       "    <tr>\n",
       "      <th>99997</th>\n",
       "      <td>29</td>\n",
       "      <td>99998</td>\n",
       "      <td>5152</td>\n",
       "    </tr>\n",
       "    <tr>\n",
       "      <th>99998</th>\n",
       "      <td>31</td>\n",
       "      <td>99999</td>\n",
       "      <td>16312</td>\n",
       "    </tr>\n",
       "    <tr>\n",
       "      <th>99999</th>\n",
       "      <td>35</td>\n",
       "      <td>100000</td>\n",
       "      <td>9426</td>\n",
       "    </tr>\n",
       "  </tbody>\n",
       "</table>\n",
       "<p>100000 rows × 3 columns</p>\n",
       "</div>"
      ],
      "text/plain": [
       "       age      id  purchase_amount\n",
       "0       27       1            18249\n",
       "1       29       2             4557\n",
       "2       37       3            11822\n",
       "3       30       4             4098\n",
       "4       31       5            19685\n",
       "...    ...     ...              ...\n",
       "99995   31   99996             7075\n",
       "99996   36   99997             6873\n",
       "99997   29   99998             5152\n",
       "99998   31   99999            16312\n",
       "99999   35  100000             9426\n",
       "\n",
       "[100000 rows x 3 columns]"
      ]
     },
     "execution_count": 7,
     "metadata": {},
     "output_type": "execute_result"
    }
   ],
   "source": [
    "customer_age = customer_df[\"age\"]\n",
    "customer_age = pd.DataFrame(customer_age)\n",
    "\n",
    "customer_age = pd.concat([customer_age, customer_id, customer_purchase_amount], axis=1, ignore_index=True) \n",
    "customer_age = customer_age.rename(columns={0:\"age\",1:\"id\",2:\"purchase_amount\"})\n",
    "customer_age"
   ]
  },
  {
   "cell_type": "code",
   "execution_count": 8,
   "id": "1de895ea-7de4-4ebb-a4cb-a69438410233",
   "metadata": {},
   "outputs": [
    {
     "data": {
      "text/html": [
       "<div>\n",
       "<style scoped>\n",
       "    .dataframe tbody tr th:only-of-type {\n",
       "        vertical-align: middle;\n",
       "    }\n",
       "\n",
       "    .dataframe tbody tr th {\n",
       "        vertical-align: top;\n",
       "    }\n",
       "\n",
       "    .dataframe thead th {\n",
       "        text-align: right;\n",
       "    }\n",
       "</style>\n",
       "<table border=\"1\" class=\"dataframe\">\n",
       "  <thead>\n",
       "    <tr style=\"text-align: right;\">\n",
       "      <th></th>\n",
       "      <th>income</th>\n",
       "      <th>purchase_amount</th>\n",
       "    </tr>\n",
       "  </thead>\n",
       "  <tbody>\n",
       "    <tr>\n",
       "      <th>0</th>\n",
       "      <td>40682</td>\n",
       "      <td>18249</td>\n",
       "    </tr>\n",
       "    <tr>\n",
       "      <th>1</th>\n",
       "      <td>15317</td>\n",
       "      <td>4557</td>\n",
       "    </tr>\n",
       "    <tr>\n",
       "      <th>2</th>\n",
       "      <td>38849</td>\n",
       "      <td>11822</td>\n",
       "    </tr>\n",
       "    <tr>\n",
       "      <th>3</th>\n",
       "      <td>11568</td>\n",
       "      <td>4098</td>\n",
       "    </tr>\n",
       "    <tr>\n",
       "      <th>4</th>\n",
       "      <td>46952</td>\n",
       "      <td>19685</td>\n",
       "    </tr>\n",
       "    <tr>\n",
       "      <th>...</th>\n",
       "      <td>...</td>\n",
       "      <td>...</td>\n",
       "    </tr>\n",
       "    <tr>\n",
       "      <th>99995</th>\n",
       "      <td>19691</td>\n",
       "      <td>7075</td>\n",
       "    </tr>\n",
       "    <tr>\n",
       "      <th>99996</th>\n",
       "      <td>17428</td>\n",
       "      <td>6873</td>\n",
       "    </tr>\n",
       "    <tr>\n",
       "      <th>99997</th>\n",
       "      <td>13222</td>\n",
       "      <td>5152</td>\n",
       "    </tr>\n",
       "    <tr>\n",
       "      <th>99998</th>\n",
       "      <td>40093</td>\n",
       "      <td>16312</td>\n",
       "    </tr>\n",
       "    <tr>\n",
       "      <th>99999</th>\n",
       "      <td>22249</td>\n",
       "      <td>9426</td>\n",
       "    </tr>\n",
       "  </tbody>\n",
       "</table>\n",
       "<p>100000 rows × 2 columns</p>\n",
       "</div>"
      ],
      "text/plain": [
       "       income  purchase_amount\n",
       "0       40682            18249\n",
       "1       15317             4557\n",
       "2       38849            11822\n",
       "3       11568             4098\n",
       "4       46952            19685\n",
       "...       ...              ...\n",
       "99995   19691             7075\n",
       "99996   17428             6873\n",
       "99997   13222             5152\n",
       "99998   40093            16312\n",
       "99999   22249             9426\n",
       "\n",
       "[100000 rows x 2 columns]"
      ]
     },
     "execution_count": 8,
     "metadata": {},
     "output_type": "execute_result"
    }
   ],
   "source": [
    "customer_income_purchase = customer_df[[\"income\", \"purchase_amount\"]]\n",
    "customer_income_purchase"
   ]
  },
  {
   "cell_type": "code",
   "execution_count": 9,
   "id": "ff28146c-2c82-4006-a306-120a170766e7",
   "metadata": {},
   "outputs": [
    {
     "name": "stdout",
     "output_type": "stream",
     "text": [
      "Index(['income', 'purchase_amount'], dtype='object')\n"
     ]
    }
   ],
   "source": [
    "print(customer_income_purchase.columns)"
   ]
  },
  {
   "cell_type": "code",
   "execution_count": 10,
   "id": "157b2fc4-4e08-44d2-9d6e-f190af48ea6d",
   "metadata": {},
   "outputs": [],
   "source": [
    "x_values = customer_income_purchase[\"income\"]\n",
    "y_values = customer_income_purchase[\"purchase_amount\"]"
   ]
  },
  {
   "cell_type": "code",
   "execution_count": 12,
   "id": "74fa9f98-c57a-4bf0-9aab-bd9285a25dfc",
   "metadata": {},
   "outputs": [
    {
     "data": {
      "text/plain": [
       "(100000,)"
      ]
     },
     "execution_count": 12,
     "metadata": {},
     "output_type": "execute_result"
    }
   ],
   "source": [
    "x_values.shape"
   ]
  },
  {
   "cell_type": "code",
   "execution_count": 38,
   "id": "210f0651-a653-4bcd-b3e3-32b54965fb2d",
   "metadata": {},
   "outputs": [
    {
     "data": {
      "image/png": "[encoded data removed]",
      "text/plain": [
       "<Figure size 640x480 with 1 Axes>"
      ]
     },
     "metadata": {},
     "output_type": "display_data"
    }
   ],
   "source": [
    "def create_scatter(df,x, y,xl,yla, coords = (0,0)):\n",
    "    x_values = df[x]\n",
    "    y_values = df[y]\n",
    "    (slope, intercept, rvalue, pvalue, stderr) = linregress(x_values, y_values)\n",
    "    regress_values = x_values * slope + intercept\n",
    "    line_eq = \"y = \" + str(round(slope,2)) + \"x + \" + str(round(intercept,2))\n",
    "    plt.scatter(x_values, y_values)\n",
    "    plt.plot(x_values,regress_values,\"r-\")\n",
    "    plt.annotate(line_eq,coords,fontsize=15,color=\"red\")\n",
    "    plt.xlabel(xl)\n",
    "    plt.ylabel(yla)\n",
    "    plt.show()\n",
    "\n",
    "create_scatter(customer_income_purchase, \"income\", \"purchase_amount\",\"income\",\"purchase amount\", (5000,25000))"
   ]
  },
  {
   "cell_type": "code",
   "execution_count": 41,
   "id": "0342c2f1-8be1-4bc5-b454-eb3afc642058",
   "metadata": {},
   "outputs": [
    {
     "data": {
      "text/plain": [
       "0        40682\n",
       "1        15317\n",
       "2        38849\n",
       "3        11568\n",
       "4        46952\n",
       "         ...  \n",
       "99995    19691\n",
       "99996    17428\n",
       "99997    13222\n",
       "99998    40093\n",
       "99999    22249\n",
       "Name: income, Length: 100000, dtype: int64"
      ]
     },
     "execution_count": 41,
     "metadata": {},
     "output_type": "execute_result"
    }
   ],
   "source": [
    "customer_df[\"income spent(%)\"]"
   ]
  },
  {
   "cell_type": "code",
   "execution_count": 42,
   "id": "a37eda32-71db-401e-b030-1c7ce7606905",
   "metadata": {},
   "outputs": [
    {
     "data": {
      "image/png": "[encoded data removed]",
      "text/plain": [
       "<Figure size 640x480 with 1 Axes>"
      ]
     },
     "metadata": {},
     "output_type": "display_data"
    }
   ],
   "source": [
    "customer_df[\"income spent(%)\"]=(customer_df[\"purchase_amount\"]/customer_df[\"income\"])*100\n",
    "create_scatter(customer_df,\"income\",\"income spent(%)\",\"test1\",\"text2\")"
   ]
  },
  {
   "cell_type": "code",
   "execution_count": 22,
   "id": "12cba34a-1978-4f63-bf3e-c54cad3a1cd7",
   "metadata": {},
   "outputs": [
    {
     "name": "stdout",
     "output_type": "stream",
     "text": [
      "                   income  purchase_amount\n",
      "income           1.000000         0.948441\n",
      "purchase_amount  0.948441         1.000000\n"
     ]
    }
   ],
   "source": [
    "correlation_matrix = customer_income_purchase.corr()\n",
    "print(correlation_matrix)"
   ]
  },
  {
   "cell_type": "code",
   "execution_count": null,
   "id": "3f48b69b-dbd6-4669-8a05-1c45a37cf2f7",
   "metadata": {},
   "outputs": [],
   "source": []
  }
 ],
 "metadata": {
  "kernelspec": {
   "display_name": "Python 3 (ipykernel)",
   "language": "python",
   "name": "python3"
  },
  "language_info": {
   "codemirror_mode": {
    "name": "ipython",
    "version": 3
   },
   "file_extension": ".py",
   "mimetype": "text/x-python",
   "name": "python",
   "nbconvert_exporter": "python",
   "pygments_lexer": "ipython3",
   "version": "3.11.7"
  }
 },
 "nbformat": 4,
 "nbformat_minor": 5
}
